{
 "cells": [
  {
   "cell_type": "markdown",
   "id": "oriental-seven",
   "metadata": {},
   "source": [
    "# Stock market prediction and forecasting using stacked LSTM"
   ]
  },
  {
   "cell_type": "markdown",
   "id": "worth-strap",
   "metadata": {},
   "source": [
    "Source : Krish Naik's Youtube video - Data Science projects library"
   ]
  },
  {
   "cell_type": "code",
   "execution_count": 2,
   "id": "sophisticated-ridge",
   "metadata": {},
   "outputs": [
    {
     "name": "stdout",
     "output_type": "stream",
     "text": [
      "Collecting pandas_datareader\n",
      "  Downloading pandas_datareader-0.10.0-py3-none-any.whl (109 kB)\n",
      "Requirement already satisfied: lxml in c:\\users\\aksha\\anaconda3\\lib\\site-packages (from pandas_datareader) (4.6.2)\n",
      "Requirement already satisfied: pandas>=0.23 in c:\\users\\aksha\\anaconda3\\lib\\site-packages (from pandas_datareader) (1.2.0)\n",
      "Requirement already satisfied: requests>=2.19.0 in c:\\users\\aksha\\anaconda3\\lib\\site-packages (from pandas_datareader) (2.25.1)\n",
      "Requirement already satisfied: python-dateutil>=2.7.3 in c:\\users\\aksha\\anaconda3\\lib\\site-packages (from pandas>=0.23->pandas_datareader) (2.8.1)\n",
      "Requirement already satisfied: numpy>=1.16.5 in c:\\users\\aksha\\anaconda3\\lib\\site-packages (from pandas>=0.23->pandas_datareader) (1.21.2)\n",
      "Requirement already satisfied: pytz>=2017.3 in c:\\users\\aksha\\anaconda3\\lib\\site-packages (from pandas>=0.23->pandas_datareader) (2020.5)\n",
      "Requirement already satisfied: six>=1.5 in c:\\users\\aksha\\anaconda3\\lib\\site-packages (from python-dateutil>=2.7.3->pandas>=0.23->pandas_datareader) (1.15.0)\n",
      "Requirement already satisfied: chardet<5,>=3.0.2 in c:\\users\\aksha\\anaconda3\\lib\\site-packages (from requests>=2.19.0->pandas_datareader) (4.0.0)\n",
      "Requirement already satisfied: urllib3<1.27,>=1.21.1 in c:\\users\\aksha\\anaconda3\\lib\\site-packages (from requests>=2.19.0->pandas_datareader) (1.26.2)\n",
      "Requirement already satisfied: certifi>=2017.4.17 in c:\\users\\aksha\\anaconda3\\lib\\site-packages (from requests>=2.19.0->pandas_datareader) (2020.12.5)\n",
      "Requirement already satisfied: idna<3,>=2.5 in c:\\users\\aksha\\anaconda3\\lib\\site-packages (from requests>=2.19.0->pandas_datareader) (2.10)\n",
      "Installing collected packages: pandas-datareader\n",
      "Successfully installed pandas-datareader-0.10.0\n",
      "Note: you may need to restart the kernel to use updated packages.\n"
     ]
    }
   ],
   "source": [
    "pip install pandas_datareader"
   ]
  },
  {
   "cell_type": "code",
   "execution_count": 11,
   "id": "technological-midwest",
   "metadata": {},
   "outputs": [],
   "source": [
    "import pandas_datareader.data as pdr\n",
    "import os"
   ]
  },
  {
   "cell_type": "code",
   "execution_count": 14,
   "id": "thirty-triumph",
   "metadata": {},
   "outputs": [],
   "source": [
    "df = pdr.get_data_tiingo('AAPL', api_key = 'ce4cfc0f981ed5c868b2f5a1969086e1c83593b6')"
   ]
  },
  {
   "cell_type": "code",
   "execution_count": 15,
   "id": "incomplete-samba",
   "metadata": {},
   "outputs": [],
   "source": [
    "df.to_csv('AAPL.csv')"
   ]
  },
  {
   "cell_type": "code",
   "execution_count": 16,
   "id": "binary-trustee",
   "metadata": {},
   "outputs": [],
   "source": [
    "import pandas as pd"
   ]
  },
  {
   "cell_type": "code",
   "execution_count": 17,
   "id": "micro-scientist",
   "metadata": {},
   "outputs": [],
   "source": [
    "df = pd.read_csv('AAPL.csv')"
   ]
  },
  {
   "cell_type": "code",
   "execution_count": 25,
   "id": "chicken-vertical",
   "metadata": {},
   "outputs": [
    {
     "data": {
      "text/html": [
       "<div>\n",
       "<style scoped>\n",
       "    .dataframe tbody tr th:only-of-type {\n",
       "        vertical-align: middle;\n",
       "    }\n",
       "\n",
       "    .dataframe tbody tr th {\n",
       "        vertical-align: top;\n",
       "    }\n",
       "\n",
       "    .dataframe thead th {\n",
       "        text-align: right;\n",
       "    }\n",
       "</style>\n",
       "<table border=\"1\" class=\"dataframe\">\n",
       "  <thead>\n",
       "    <tr style=\"text-align: right;\">\n",
       "      <th></th>\n",
       "      <th>symbol</th>\n",
       "      <th>date</th>\n",
       "      <th>close</th>\n",
       "      <th>high</th>\n",
       "      <th>low</th>\n",
       "      <th>open</th>\n",
       "      <th>volume</th>\n",
       "      <th>adjClose</th>\n",
       "      <th>adjHigh</th>\n",
       "      <th>adjLow</th>\n",
       "      <th>adjOpen</th>\n",
       "      <th>adjVolume</th>\n",
       "      <th>divCash</th>\n",
       "      <th>splitFactor</th>\n",
       "    </tr>\n",
       "  </thead>\n",
       "  <tbody>\n",
       "    <tr>\n",
       "      <th>0</th>\n",
       "      <td>AAPL</td>\n",
       "      <td>2017-02-23 00:00:00+00:00</td>\n",
       "      <td>136.53</td>\n",
       "      <td>137.480</td>\n",
       "      <td>136.300</td>\n",
       "      <td>137.38</td>\n",
       "      <td>20788186</td>\n",
       "      <td>32.221602</td>\n",
       "      <td>32.445806</td>\n",
       "      <td>32.167321</td>\n",
       "      <td>32.422206</td>\n",
       "      <td>83152744</td>\n",
       "      <td>0.0</td>\n",
       "      <td>1.0</td>\n",
       "    </tr>\n",
       "    <tr>\n",
       "      <th>1</th>\n",
       "      <td>AAPL</td>\n",
       "      <td>2017-02-24 00:00:00+00:00</td>\n",
       "      <td>136.66</td>\n",
       "      <td>136.660</td>\n",
       "      <td>135.280</td>\n",
       "      <td>135.91</td>\n",
       "      <td>21776585</td>\n",
       "      <td>32.252283</td>\n",
       "      <td>32.252283</td>\n",
       "      <td>31.926598</td>\n",
       "      <td>32.075280</td>\n",
       "      <td>87106340</td>\n",
       "      <td>0.0</td>\n",
       "      <td>1.0</td>\n",
       "    </tr>\n",
       "    <tr>\n",
       "      <th>2</th>\n",
       "      <td>AAPL</td>\n",
       "      <td>2017-02-27 00:00:00+00:00</td>\n",
       "      <td>136.93</td>\n",
       "      <td>137.435</td>\n",
       "      <td>136.280</td>\n",
       "      <td>137.14</td>\n",
       "      <td>20257426</td>\n",
       "      <td>32.316004</td>\n",
       "      <td>32.435186</td>\n",
       "      <td>32.162601</td>\n",
       "      <td>32.365565</td>\n",
       "      <td>81029704</td>\n",
       "      <td>0.0</td>\n",
       "      <td>1.0</td>\n",
       "    </tr>\n",
       "    <tr>\n",
       "      <th>3</th>\n",
       "      <td>AAPL</td>\n",
       "      <td>2017-02-28 00:00:00+00:00</td>\n",
       "      <td>136.99</td>\n",
       "      <td>137.435</td>\n",
       "      <td>136.700</td>\n",
       "      <td>137.08</td>\n",
       "      <td>23482860</td>\n",
       "      <td>32.330164</td>\n",
       "      <td>32.435186</td>\n",
       "      <td>32.261723</td>\n",
       "      <td>32.351404</td>\n",
       "      <td>93931440</td>\n",
       "      <td>0.0</td>\n",
       "      <td>1.0</td>\n",
       "    </tr>\n",
       "    <tr>\n",
       "      <th>4</th>\n",
       "      <td>AAPL</td>\n",
       "      <td>2017-03-01 00:00:00+00:00</td>\n",
       "      <td>139.79</td>\n",
       "      <td>140.150</td>\n",
       "      <td>137.595</td>\n",
       "      <td>137.89</td>\n",
       "      <td>36414585</td>\n",
       "      <td>32.990975</td>\n",
       "      <td>33.075936</td>\n",
       "      <td>32.472946</td>\n",
       "      <td>32.542568</td>\n",
       "      <td>145658340</td>\n",
       "      <td>0.0</td>\n",
       "      <td>1.0</td>\n",
       "    </tr>\n",
       "  </tbody>\n",
       "</table>\n",
       "</div>"
      ],
      "text/plain": [
       "  symbol                       date   close     high      low    open  \\\n",
       "0   AAPL  2017-02-23 00:00:00+00:00  136.53  137.480  136.300  137.38   \n",
       "1   AAPL  2017-02-24 00:00:00+00:00  136.66  136.660  135.280  135.91   \n",
       "2   AAPL  2017-02-27 00:00:00+00:00  136.93  137.435  136.280  137.14   \n",
       "3   AAPL  2017-02-28 00:00:00+00:00  136.99  137.435  136.700  137.08   \n",
       "4   AAPL  2017-03-01 00:00:00+00:00  139.79  140.150  137.595  137.89   \n",
       "\n",
       "     volume   adjClose    adjHigh     adjLow    adjOpen  adjVolume  divCash  \\\n",
       "0  20788186  32.221602  32.445806  32.167321  32.422206   83152744      0.0   \n",
       "1  21776585  32.252283  32.252283  31.926598  32.075280   87106340      0.0   \n",
       "2  20257426  32.316004  32.435186  32.162601  32.365565   81029704      0.0   \n",
       "3  23482860  32.330164  32.435186  32.261723  32.351404   93931440      0.0   \n",
       "4  36414585  32.990975  33.075936  32.472946  32.542568  145658340      0.0   \n",
       "\n",
       "   splitFactor  \n",
       "0          1.0  \n",
       "1          1.0  \n",
       "2          1.0  \n",
       "3          1.0  \n",
       "4          1.0  "
      ]
     },
     "execution_count": 25,
     "metadata": {},
     "output_type": "execute_result"
    }
   ],
   "source": [
    "df.head()"
   ]
  },
  {
   "cell_type": "code",
   "execution_count": 26,
   "id": "genetic-decrease",
   "metadata": {},
   "outputs": [
    {
     "data": {
      "text/html": [
       "<div>\n",
       "<style scoped>\n",
       "    .dataframe tbody tr th:only-of-type {\n",
       "        vertical-align: middle;\n",
       "    }\n",
       "\n",
       "    .dataframe tbody tr th {\n",
       "        vertical-align: top;\n",
       "    }\n",
       "\n",
       "    .dataframe thead th {\n",
       "        text-align: right;\n",
       "    }\n",
       "</style>\n",
       "<table border=\"1\" class=\"dataframe\">\n",
       "  <thead>\n",
       "    <tr style=\"text-align: right;\">\n",
       "      <th></th>\n",
       "      <th>symbol</th>\n",
       "      <th>date</th>\n",
       "      <th>close</th>\n",
       "      <th>high</th>\n",
       "      <th>low</th>\n",
       "      <th>open</th>\n",
       "      <th>volume</th>\n",
       "      <th>adjClose</th>\n",
       "      <th>adjHigh</th>\n",
       "      <th>adjLow</th>\n",
       "      <th>adjOpen</th>\n",
       "      <th>adjVolume</th>\n",
       "      <th>divCash</th>\n",
       "      <th>splitFactor</th>\n",
       "    </tr>\n",
       "  </thead>\n",
       "  <tbody>\n",
       "    <tr>\n",
       "      <th>1253</th>\n",
       "      <td>AAPL</td>\n",
       "      <td>2022-02-14 00:00:00+00:00</td>\n",
       "      <td>168.88</td>\n",
       "      <td>169.5800</td>\n",
       "      <td>166.56</td>\n",
       "      <td>167.37</td>\n",
       "      <td>86185530</td>\n",
       "      <td>168.88</td>\n",
       "      <td>169.5800</td>\n",
       "      <td>166.56</td>\n",
       "      <td>167.37</td>\n",
       "      <td>86185530</td>\n",
       "      <td>0.0</td>\n",
       "      <td>1.0</td>\n",
       "    </tr>\n",
       "    <tr>\n",
       "      <th>1254</th>\n",
       "      <td>AAPL</td>\n",
       "      <td>2022-02-15 00:00:00+00:00</td>\n",
       "      <td>172.79</td>\n",
       "      <td>172.9500</td>\n",
       "      <td>170.25</td>\n",
       "      <td>170.97</td>\n",
       "      <td>64286320</td>\n",
       "      <td>172.79</td>\n",
       "      <td>172.9500</td>\n",
       "      <td>170.25</td>\n",
       "      <td>170.97</td>\n",
       "      <td>64286320</td>\n",
       "      <td>0.0</td>\n",
       "      <td>1.0</td>\n",
       "    </tr>\n",
       "    <tr>\n",
       "      <th>1255</th>\n",
       "      <td>AAPL</td>\n",
       "      <td>2022-02-16 00:00:00+00:00</td>\n",
       "      <td>172.55</td>\n",
       "      <td>173.3400</td>\n",
       "      <td>170.05</td>\n",
       "      <td>171.85</td>\n",
       "      <td>61177398</td>\n",
       "      <td>172.55</td>\n",
       "      <td>173.3400</td>\n",
       "      <td>170.05</td>\n",
       "      <td>171.85</td>\n",
       "      <td>61177398</td>\n",
       "      <td>0.0</td>\n",
       "      <td>1.0</td>\n",
       "    </tr>\n",
       "    <tr>\n",
       "      <th>1256</th>\n",
       "      <td>AAPL</td>\n",
       "      <td>2022-02-17 00:00:00+00:00</td>\n",
       "      <td>168.88</td>\n",
       "      <td>171.9100</td>\n",
       "      <td>168.47</td>\n",
       "      <td>171.03</td>\n",
       "      <td>69589344</td>\n",
       "      <td>168.88</td>\n",
       "      <td>171.9100</td>\n",
       "      <td>168.47</td>\n",
       "      <td>171.03</td>\n",
       "      <td>69589344</td>\n",
       "      <td>0.0</td>\n",
       "      <td>1.0</td>\n",
       "    </tr>\n",
       "    <tr>\n",
       "      <th>1257</th>\n",
       "      <td>AAPL</td>\n",
       "      <td>2022-02-18 00:00:00+00:00</td>\n",
       "      <td>167.30</td>\n",
       "      <td>170.5413</td>\n",
       "      <td>166.19</td>\n",
       "      <td>169.82</td>\n",
       "      <td>82772674</td>\n",
       "      <td>167.30</td>\n",
       "      <td>170.5413</td>\n",
       "      <td>166.19</td>\n",
       "      <td>169.82</td>\n",
       "      <td>82772674</td>\n",
       "      <td>0.0</td>\n",
       "      <td>1.0</td>\n",
       "    </tr>\n",
       "  </tbody>\n",
       "</table>\n",
       "</div>"
      ],
      "text/plain": [
       "     symbol                       date   close      high     low    open  \\\n",
       "1253   AAPL  2022-02-14 00:00:00+00:00  168.88  169.5800  166.56  167.37   \n",
       "1254   AAPL  2022-02-15 00:00:00+00:00  172.79  172.9500  170.25  170.97   \n",
       "1255   AAPL  2022-02-16 00:00:00+00:00  172.55  173.3400  170.05  171.85   \n",
       "1256   AAPL  2022-02-17 00:00:00+00:00  168.88  171.9100  168.47  171.03   \n",
       "1257   AAPL  2022-02-18 00:00:00+00:00  167.30  170.5413  166.19  169.82   \n",
       "\n",
       "        volume  adjClose   adjHigh  adjLow  adjOpen  adjVolume  divCash  \\\n",
       "1253  86185530    168.88  169.5800  166.56   167.37   86185530      0.0   \n",
       "1254  64286320    172.79  172.9500  170.25   170.97   64286320      0.0   \n",
       "1255  61177398    172.55  173.3400  170.05   171.85   61177398      0.0   \n",
       "1256  69589344    168.88  171.9100  168.47   171.03   69589344      0.0   \n",
       "1257  82772674    167.30  170.5413  166.19   169.82   82772674      0.0   \n",
       "\n",
       "      splitFactor  \n",
       "1253          1.0  \n",
       "1254          1.0  \n",
       "1255          1.0  \n",
       "1256          1.0  \n",
       "1257          1.0  "
      ]
     },
     "execution_count": 26,
     "metadata": {},
     "output_type": "execute_result"
    }
   ],
   "source": [
    "df.tail()"
   ]
  },
  {
   "cell_type": "code",
   "execution_count": 19,
   "id": "blank-religion",
   "metadata": {},
   "outputs": [],
   "source": [
    "df1=df.reset_index()['close']"
   ]
  },
  {
   "cell_type": "code",
   "execution_count": null,
   "id": "proper-gospel",
   "metadata": {},
   "outputs": [],
   "source": []
  },
  {
   "cell_type": "code",
   "execution_count": 20,
   "id": "pharmaceutical-parade",
   "metadata": {},
   "outputs": [
    {
     "data": {
      "text/plain": [
       "0       136.53\n",
       "1       136.66\n",
       "2       136.93\n",
       "3       136.99\n",
       "4       139.79\n",
       "         ...  \n",
       "1253    168.88\n",
       "1254    172.79\n",
       "1255    172.55\n",
       "1256    168.88\n",
       "1257    167.30\n",
       "Name: close, Length: 1258, dtype: float64"
      ]
     },
     "execution_count": 20,
     "metadata": {},
     "output_type": "execute_result"
    }
   ],
   "source": [
    "df1"
   ]
  },
  {
   "cell_type": "code",
   "execution_count": 22,
   "id": "orange-screen",
   "metadata": {},
   "outputs": [
    {
     "data": {
      "text/plain": [
       "[<matplotlib.lines.Line2D at 0x26c50fded30>]"
      ]
     },
     "execution_count": 22,
     "metadata": {},
     "output_type": "execute_result"
    },
    {
     "data": {
      "image/png": "[encoded data removed]",
      "text/plain": [
       "<Figure size 432x288 with 1 Axes>"
      ]
     },
     "metadata": {
      "needs_background": "light"
     },
     "output_type": "display_data"
    }
   ],
   "source": [
    "import matplotlib.pyplot as plt\n",
    "plt.plot(df1)"
   ]
  },
  {
   "cell_type": "code",
   "execution_count": null,
   "id": "psychological-netherlands",
   "metadata": {},
   "outputs": [],
   "source": [
    "## LSTM is very sensitive to scaling"
   ]
  },
  {
   "cell_type": "code",
   "execution_count": 27,
   "id": "bottom-ecuador",
   "metadata": {},
   "outputs": [],
   "source": [
    "import numpy as np"
   ]
  },
  {
   "cell_type": "code",
   "execution_count": 28,
   "id": "photographic-somalia",
   "metadata": {},
   "outputs": [],
   "source": [
    "from sklearn.preprocessing import MinMaxScaler\n",
    "scaler = MinMaxScaler(feature_range=(0,1))\n",
    "df1=scaler.fit_transform(np.array(df1).reshape(-1,1))"
   ]
  },
  {
   "cell_type": "code",
   "execution_count": 29,
   "id": "square-davis",
   "metadata": {},
   "outputs": [
    {
     "data": {
      "text/plain": [
       "(1258, 1)"
      ]
     },
     "execution_count": 29,
     "metadata": {},
     "output_type": "execute_result"
    }
   ],
   "source": [
    "df1.shape"
   ]
  },
  {
   "cell_type": "code",
   "execution_count": 30,
   "id": "extraordinary-mistress",
   "metadata": {},
   "outputs": [],
   "source": [
    "##Splitting the dataset into train and test\n",
    "\n",
    "training_size=int(len(df1)*0.65)\n",
    "test_size=len(df1)-training_size\n",
    "train_data,test_data=df1[0:training_size,:],df1[training_size:len(df1),:1]"
   ]
  },
  {
   "cell_type": "code",
   "execution_count": 33,
   "id": "mineral-theorem",
   "metadata": {},
   "outputs": [],
   "source": [
    "import numpy\n",
    "# Convert an array of values into a dataset matrix\n",
    "def create_dataset(dataset, time_step=1):\n",
    "    dataX, dataY = [],[]\n",
    "    for i in range(len(dataset)-time_step-1):\n",
    "        a = dataset[i:(i+time_step),0]  ###i = 0,0,1,2,3\n",
    "        dataX.append(a)\n",
    "        dataY.append(dataset[i + time_step,0])\n",
    "    return numpy.array(dataX), numpy.array(dataY)"
   ]
  },
  {
   "cell_type": "code",
   "execution_count": 34,
   "id": "normal-musical",
   "metadata": {},
   "outputs": [],
   "source": [
    "# reshape into X=t, t+1, t+2, t+3 and Y=t+4\n",
    "\n",
    "time_step = 100\n",
    "X_train, Y_train = create_dataset(train_data, time_step)\n",
    "X_test, Y_test = create_dataset(test_data, time_step)"
   ]
  },
  {
   "cell_type": "code",
   "execution_count": 35,
   "id": "classified-north",
   "metadata": {},
   "outputs": [
    {
     "name": "stdout",
     "output_type": "stream",
     "text": [
      "[[0.07436443 0.07469004 0.07536631 ... 0.10251722 0.10569818 0.10700063]\n",
      " [0.07469004 0.07536631 0.07551659 ... 0.10569818 0.10700063 0.10830307]\n",
      " [0.07536631 0.07551659 0.08252974 ... 0.10700063 0.10830307 0.11065748]\n",
      " ...\n",
      " [0.443732   0.44440827 0.45853475 ... 0.50296807 0.50770194 0.50311835]\n",
      " [0.44440827 0.45853475 0.45825924 ... 0.50770194 0.50311835 0.5212774 ]\n",
      " [0.45853475 0.45825924 0.46256731 ... 0.50311835 0.5212774  0.51671885]]\n"
     ]
    }
   ],
   "source": [
    "print(X_train)"
   ]
  },
  {
   "cell_type": "code",
   "execution_count": 37,
   "id": "short-sapphire",
   "metadata": {},
   "outputs": [
    {
     "name": "stdout",
     "output_type": "stream",
     "text": [
      "(716, 100)\n",
      "(716,)\n"
     ]
    },
    {
     "data": {
      "text/plain": [
       "(None, None)"
      ]
     },
     "execution_count": 37,
     "metadata": {},
     "output_type": "execute_result"
    }
   ],
   "source": [
    "print(X_train.shape), print(Y_train.shape)"
   ]
  },
  {
   "cell_type": "code",
   "execution_count": 36,
   "id": "private-ballot",
   "metadata": {},
   "outputs": [
    {
     "name": "stdout",
     "output_type": "stream",
     "text": [
      "(340, 100)\n",
      "(340,)\n"
     ]
    },
    {
     "data": {
      "text/plain": [
       "(None, None)"
      ]
     },
     "execution_count": 36,
     "metadata": {},
     "output_type": "execute_result"
    }
   ],
   "source": [
    "print(X_test.shape),print(Y_test.shape)"
   ]
  },
  {
   "cell_type": "code",
   "execution_count": null,
   "id": "promising-deficit",
   "metadata": {},
   "outputs": [],
   "source": [
    "# reshape input to be [samples, time steps, features] which is required for LSTM\n",
    "X_train = X_train.reshape(X_train.shape[0],X_train.shape[1], 1)\n",
    "X_test = X_test.reshape(X_test.shape[0],X_test.shape[1],1)"
   ]
  },
  {
   "cell_type": "code",
   "execution_count": 38,
   "id": "robust-section",
   "metadata": {},
   "outputs": [],
   "source": [
    "### Create the Stacked LSTM model\n",
    "from tensorflow.keras.models import Sequential\n",
    "from tensorflow.keras.layers import Dense\n",
    "from tensorflow.keras.layers import LSTM"
   ]
  },
  {
   "cell_type": "code",
   "execution_count": 39,
   "id": "alternate-brook",
   "metadata": {},
   "outputs": [],
   "source": [
    "model = Sequential()\n",
    "model.add(LSTM(50,return_sequences=True,input_shape=(100,1)))\n",
    "model.add(LSTM(50,return_sequences=True))\n",
    "model.add(LSTM(50))\n",
    "model.add(Dense(1))\n",
    "model.compile(loss='mean_squared_error',optimizer='adam')"
   ]
  },
  {
   "cell_type": "code",
   "execution_count": 40,
   "id": "renewable-floor",
   "metadata": {},
   "outputs": [
    {
     "name": "stdout",
     "output_type": "stream",
     "text": [
      "Model: \"sequential\"\n",
      "_________________________________________________________________\n",
      " Layer (type)                Output Shape              Param #   \n",
      "=================================================================\n",
      " lstm (LSTM)                 (None, 100, 50)           10400     \n",
      "                                                                 \n",
      " lstm_1 (LSTM)               (None, 100, 50)           20200     \n",
      "                                                                 \n",
      " lstm_2 (LSTM)               (None, 50)                20200     \n",
      "                                                                 \n",
      " dense (Dense)               (None, 1)                 51        \n",
      "                                                                 \n",
      "=================================================================\n",
      "Total params: 50,851\n",
      "Trainable params: 50,851\n",
      "Non-trainable params: 0\n",
      "_________________________________________________________________\n"
     ]
    }
   ],
   "source": [
    "model.summary()"
   ]
  },
  {
   "cell_type": "code",
   "execution_count": 41,
   "id": "broke-fitness",
   "metadata": {},
   "outputs": [
    {
     "name": "stdout",
     "output_type": "stream",
     "text": [
      "Epoch 1/100\n",
      "12/12 [==============================] - 11s 323ms/step - loss: 0.0153 - val_loss: 0.0014\n",
      "Epoch 2/100\n",
      "12/12 [==============================] - 2s 169ms/step - loss: 0.0047 - val_loss: 0.0057\n",
      "Epoch 3/100\n",
      "12/12 [==============================] - 2s 176ms/step - loss: 0.0021 - val_loss: 0.0015\n",
      "Epoch 4/100\n",
      "12/12 [==============================] - 2s 180ms/step - loss: 0.0013 - val_loss: 2.7649e-04\n",
      "Epoch 5/100\n",
      "12/12 [==============================] - 2s 145ms/step - loss: 0.0012 - val_loss: 2.5105e-04\n",
      "Epoch 6/100\n",
      "12/12 [==============================] - 2s 171ms/step - loss: 0.0010 - val_loss: 2.4905e-04\n",
      "Epoch 7/100\n",
      "12/12 [==============================] - 2s 179ms/step - loss: 9.8780e-04 - val_loss: 3.9906e-04\n",
      "Epoch 8/100\n",
      "12/12 [==============================] - 2s 175ms/step - loss: 9.1603e-04 - val_loss: 3.2997e-04\n",
      "Epoch 9/100\n",
      "12/12 [==============================] - 2s 182ms/step - loss: 8.6880e-04 - val_loss: 2.2727e-04\n",
      "Epoch 10/100\n",
      "12/12 [==============================] - 2s 176ms/step - loss: 8.6508e-04 - val_loss: 2.2207e-04\n",
      "Epoch 11/100\n",
      "12/12 [==============================] - 2s 181ms/step - loss: 8.2742e-04 - val_loss: 2.5594e-04\n",
      "Epoch 12/100\n",
      "12/12 [==============================] - 2s 175ms/step - loss: 7.9261e-04 - val_loss: 2.1726e-04\n",
      "Epoch 13/100\n",
      "12/12 [==============================] - 2s 188ms/step - loss: 7.2190e-04 - val_loss: 1.9544e-04\n",
      "Epoch 14/100\n",
      "12/12 [==============================] - 2s 183ms/step - loss: 6.4562e-04 - val_loss: 2.3483e-04\n",
      "Epoch 15/100\n",
      "12/12 [==============================] - 2s 177ms/step - loss: 6.2334e-04 - val_loss: 2.1919e-04\n",
      "Epoch 16/100\n",
      "12/12 [==============================] - 2s 175ms/step - loss: 5.9981e-04 - val_loss: 2.0881e-04\n",
      "Epoch 17/100\n",
      "12/12 [==============================] - 2s 186ms/step - loss: 5.3704e-04 - val_loss: 2.0072e-04\n",
      "Epoch 18/100\n",
      "12/12 [==============================] - 2s 181ms/step - loss: 4.9925e-04 - val_loss: 2.1016e-04\n",
      "Epoch 19/100\n",
      "12/12 [==============================] - 2s 186ms/step - loss: 5.9802e-04 - val_loss: 1.9348e-04\n",
      "Epoch 20/100\n",
      "12/12 [==============================] - 2s 176ms/step - loss: 5.4409e-04 - val_loss: 1.8572e-04\n",
      "Epoch 21/100\n",
      "12/12 [==============================] - 2s 182ms/step - loss: 4.7358e-04 - val_loss: 1.9972e-04\n",
      "Epoch 22/100\n",
      "12/12 [==============================] - 2s 177ms/step - loss: 5.3943e-04 - val_loss: 1.8704e-04\n",
      "Epoch 23/100\n",
      "12/12 [==============================] - 2s 177ms/step - loss: 6.9922e-04 - val_loss: 1.7192e-04\n",
      "Epoch 24/100\n",
      "12/12 [==============================] - 2s 178ms/step - loss: 5.7915e-04 - val_loss: 1.6637e-04\n",
      "Epoch 25/100\n",
      "12/12 [==============================] - 2s 175ms/step - loss: 5.3768e-04 - val_loss: 1.8147e-04\n",
      "Epoch 26/100\n",
      "12/12 [==============================] - 2s 179ms/step - loss: 4.8062e-04 - val_loss: 1.9024e-04\n",
      "Epoch 27/100\n",
      "12/12 [==============================] - 2s 184ms/step - loss: 5.3405e-04 - val_loss: 1.6932e-04\n",
      "Epoch 28/100\n",
      "12/12 [==============================] - 2s 178ms/step - loss: 4.6087e-04 - val_loss: 1.6441e-04\n",
      "Epoch 29/100\n",
      "12/12 [==============================] - 2s 175ms/step - loss: 4.1627e-04 - val_loss: 1.6232e-04\n",
      "Epoch 30/100\n",
      "12/12 [==============================] - 2s 183ms/step - loss: 4.1247e-04 - val_loss: 1.6215e-04\n",
      "Epoch 31/100\n",
      "12/12 [==============================] - 2s 185ms/step - loss: 4.0497e-04 - val_loss: 1.7078e-04\n",
      "Epoch 32/100\n",
      "12/12 [==============================] - 2s 180ms/step - loss: 3.9381e-04 - val_loss: 1.6630e-04\n",
      "Epoch 33/100\n",
      "12/12 [==============================] - 2s 187ms/step - loss: 3.9330e-04 - val_loss: 1.6109e-04\n",
      "Epoch 34/100\n",
      "12/12 [==============================] - 2s 204ms/step - loss: 3.8383e-04 - val_loss: 1.7862e-04\n",
      "Epoch 35/100\n",
      "12/12 [==============================] - 2s 200ms/step - loss: 4.0783e-04 - val_loss: 1.6713e-04\n",
      "Epoch 36/100\n",
      "12/12 [==============================] - 2s 197ms/step - loss: 3.9536e-04 - val_loss: 1.6472e-04\n",
      "Epoch 37/100\n",
      "12/12 [==============================] - 2s 199ms/step - loss: 3.8184e-04 - val_loss: 1.6045e-04\n",
      "Epoch 38/100\n",
      "12/12 [==============================] - 2s 199ms/step - loss: 3.9494e-04 - val_loss: 1.6005e-04\n",
      "Epoch 39/100\n",
      "12/12 [==============================] - 3s 226ms/step - loss: 3.7366e-04 - val_loss: 1.6887e-04\n",
      "Epoch 40/100\n",
      "12/12 [==============================] - 3s 256ms/step - loss: 3.9174e-04 - val_loss: 1.6336e-04\n",
      "Epoch 41/100\n",
      "12/12 [==============================] - 4s 317ms/step - loss: 3.7615e-04 - val_loss: 1.6270e-04\n",
      "Epoch 42/100\n",
      "12/12 [==============================] - 3s 287ms/step - loss: 4.0083e-04 - val_loss: 1.7572e-04\n",
      "Epoch 43/100\n",
      "12/12 [==============================] - 4s 311ms/step - loss: 4.8266e-04 - val_loss: 1.8355e-04\n",
      "Epoch 44/100\n",
      "12/12 [==============================] - 3s 275ms/step - loss: 4.7384e-04 - val_loss: 1.8986e-04\n",
      "Epoch 45/100\n",
      "12/12 [==============================] - 3s 247ms/step - loss: 4.1340e-04 - val_loss: 2.0629e-04\n",
      "Epoch 46/100\n",
      "12/12 [==============================] - 3s 236ms/step - loss: 4.1092e-04 - val_loss: 1.7147e-04\n",
      "Epoch 47/100\n",
      "12/12 [==============================] - 3s 224ms/step - loss: 3.8427e-04 - val_loss: 1.7356e-04\n",
      "Epoch 48/100\n",
      "12/12 [==============================] - 3s 224ms/step - loss: 4.4734e-04 - val_loss: 1.6121e-04\n",
      "Epoch 49/100\n",
      "12/12 [==============================] - 3s 229ms/step - loss: 3.9540e-04 - val_loss: 1.8592e-04\n",
      "Epoch 50/100\n",
      "12/12 [==============================] - 3s 250ms/step - loss: 4.1321e-04 - val_loss: 2.0457e-04\n",
      "Epoch 51/100\n",
      "12/12 [==============================] - 3s 246ms/step - loss: 3.7417e-04 - val_loss: 2.0016e-04\n",
      "Epoch 52/100\n",
      "12/12 [==============================] - 3s 244ms/step - loss: 3.6898e-04 - val_loss: 1.7472e-04\n",
      "Epoch 53/100\n",
      "12/12 [==============================] - 3s 250ms/step - loss: 3.6152e-04 - val_loss: 1.6190e-04\n",
      "Epoch 54/100\n",
      "12/12 [==============================] - 3s 249ms/step - loss: 3.6004e-04 - val_loss: 1.6455e-04\n",
      "Epoch 55/100\n",
      "12/12 [==============================] - 3s 260ms/step - loss: 4.2134e-04 - val_loss: 1.6443e-04\n",
      "Epoch 56/100\n",
      "12/12 [==============================] - 3s 255ms/step - loss: 4.1773e-04 - val_loss: 1.7500e-04\n",
      "Epoch 57/100\n",
      "12/12 [==============================] - 3s 255ms/step - loss: 3.5204e-04 - val_loss: 1.7564e-04\n",
      "Epoch 58/100\n",
      "12/12 [==============================] - 3s 244ms/step - loss: 3.5558e-04 - val_loss: 1.6497e-04\n",
      "Epoch 59/100\n",
      "12/12 [==============================] - 3s 255ms/step - loss: 3.8513e-04 - val_loss: 1.9599e-04\n",
      "Epoch 60/100\n",
      "12/12 [==============================] - 3s 253ms/step - loss: 3.9945e-04 - val_loss: 1.8195e-04\n",
      "Epoch 61/100\n",
      "12/12 [==============================] - 3s 255ms/step - loss: 3.4465e-04 - val_loss: 1.6983e-04\n",
      "Epoch 62/100\n",
      "12/12 [==============================] - 3s 255ms/step - loss: 3.5742e-04 - val_loss: 1.6293e-04\n",
      "Epoch 63/100\n",
      "12/12 [==============================] - 3s 252ms/step - loss: 3.7104e-04 - val_loss: 2.0389e-04\n",
      "Epoch 64/100\n",
      "12/12 [==============================] - 3s 256ms/step - loss: 3.8551e-04 - val_loss: 1.9637e-04\n",
      "Epoch 65/100\n",
      "12/12 [==============================] - 3s 254ms/step - loss: 4.4431e-04 - val_loss: 1.6183e-04\n",
      "Epoch 66/100\n",
      "12/12 [==============================] - 3s 257ms/step - loss: 4.1425e-04 - val_loss: 1.5749e-04\n",
      "Epoch 67/100\n",
      "12/12 [==============================] - 3s 262ms/step - loss: 3.8269e-04 - val_loss: 1.8383e-04\n",
      "Epoch 68/100\n",
      "12/12 [==============================] - 3s 257ms/step - loss: 3.3593e-04 - val_loss: 1.8782e-04\n",
      "Epoch 69/100\n",
      "12/12 [==============================] - 3s 258ms/step - loss: 3.4734e-04 - val_loss: 2.4746e-04\n",
      "Epoch 70/100\n",
      "12/12 [==============================] - 3s 258ms/step - loss: 3.6900e-04 - val_loss: 1.9036e-04\n",
      "Epoch 71/100\n",
      "12/12 [==============================] - 3s 255ms/step - loss: 3.6706e-04 - val_loss: 1.8726e-04\n",
      "Epoch 72/100\n",
      "12/12 [==============================] - 3s 262ms/step - loss: 3.2563e-04 - val_loss: 2.0349e-04\n",
      "Epoch 73/100\n",
      "12/12 [==============================] - 3s 260ms/step - loss: 3.5792e-04 - val_loss: 1.5454e-04\n",
      "Epoch 74/100\n",
      "12/12 [==============================] - 3s 254ms/step - loss: 3.2118e-04 - val_loss: 1.5956e-04\n",
      "Epoch 75/100\n",
      "12/12 [==============================] - 3s 262ms/step - loss: 3.2189e-04 - val_loss: 2.3907e-04\n",
      "Epoch 76/100\n",
      "12/12 [==============================] - 3s 260ms/step - loss: 3.1856e-04 - val_loss: 1.5000e-04\n",
      "Epoch 77/100\n",
      "12/12 [==============================] - 3s 258ms/step - loss: 3.1296e-04 - val_loss: 2.5191e-04\n",
      "Epoch 78/100\n",
      "12/12 [==============================] - 3s 260ms/step - loss: 3.1957e-04 - val_loss: 1.7026e-04\n",
      "Epoch 79/100\n",
      "12/12 [==============================] - 3s 262ms/step - loss: 3.2345e-04 - val_loss: 1.5782e-04\n",
      "Epoch 80/100\n",
      "12/12 [==============================] - 3s 261ms/step - loss: 3.7053e-04 - val_loss: 3.7149e-04\n",
      "Epoch 81/100\n",
      "12/12 [==============================] - 3s 262ms/step - loss: 3.6104e-04 - val_loss: 1.7241e-04\n",
      "Epoch 82/100\n",
      "12/12 [==============================] - 3s 264ms/step - loss: 3.0292e-04 - val_loss: 1.6837e-04\n",
      "Epoch 83/100\n",
      "12/12 [==============================] - 3s 258ms/step - loss: 3.1834e-04 - val_loss: 1.7843e-04\n",
      "Epoch 84/100\n",
      "12/12 [==============================] - 3s 263ms/step - loss: 3.3427e-04 - val_loss: 1.9993e-04\n",
      "Epoch 85/100\n",
      "12/12 [==============================] - 3s 261ms/step - loss: 3.4259e-04 - val_loss: 1.9741e-04\n",
      "Epoch 86/100\n",
      "12/12 [==============================] - 3s 255ms/step - loss: 3.2214e-04 - val_loss: 2.2719e-04\n",
      "Epoch 87/100\n",
      "12/12 [==============================] - 3s 265ms/step - loss: 3.0192e-04 - val_loss: 2.0608e-04\n",
      "Epoch 88/100\n",
      "12/12 [==============================] - 3s 262ms/step - loss: 3.1561e-04 - val_loss: 1.9169e-04\n",
      "Epoch 89/100\n",
      "12/12 [==============================] - 3s 264ms/step - loss: 3.1392e-04 - val_loss: 2.3885e-04\n",
      "Epoch 90/100\n",
      "12/12 [==============================] - 3s 264ms/step - loss: 3.2865e-04 - val_loss: 1.6008e-04\n",
      "Epoch 91/100\n",
      "12/12 [==============================] - 3s 263ms/step - loss: 3.5126e-04 - val_loss: 3.3320e-04\n",
      "Epoch 92/100\n",
      "12/12 [==============================] - 3s 259ms/step - loss: 3.3413e-04 - val_loss: 1.8185e-04\n",
      "Epoch 93/100\n",
      "12/12 [==============================] - 3s 264ms/step - loss: 3.1085e-04 - val_loss: 2.2525e-04\n",
      "Epoch 94/100\n",
      "12/12 [==============================] - 3s 265ms/step - loss: 3.0431e-04 - val_loss: 1.5384e-04\n",
      "Epoch 95/100\n",
      "12/12 [==============================] - 3s 268ms/step - loss: 2.8845e-04 - val_loss: 3.3921e-04\n",
      "Epoch 96/100\n",
      "12/12 [==============================] - 3s 265ms/step - loss: 2.9464e-04 - val_loss: 1.6395e-04\n",
      "Epoch 97/100\n",
      "12/12 [==============================] - 3s 266ms/step - loss: 3.0856e-04 - val_loss: 1.7509e-04\n",
      "Epoch 98/100\n",
      "12/12 [==============================] - 3s 263ms/step - loss: 2.8771e-04 - val_loss: 2.4908e-04\n",
      "Epoch 99/100\n",
      "12/12 [==============================] - 3s 266ms/step - loss: 3.0910e-04 - val_loss: 1.9522e-04\n",
      "Epoch 100/100\n",
      "12/12 [==============================] - 3s 269ms/step - loss: 2.8708e-04 - val_loss: 2.2072e-04\n"
     ]
    },
    {
     "data": {
      "text/plain": [
       "<keras.callbacks.History at 0x26c657d31c0>"
      ]
     },
     "execution_count": 41,
     "metadata": {},
     "output_type": "execute_result"
    }
   ],
   "source": [
    "model.fit(X_train,Y_train,validation_data=(X_test,Y_test),epochs=100,batch_size=64,verbose=1)"
   ]
  },
  {
   "cell_type": "code",
   "execution_count": 42,
   "id": "raised-sodium",
   "metadata": {},
   "outputs": [],
   "source": [
    "import tensorflow as tf"
   ]
  },
  {
   "cell_type": "code",
   "execution_count": 43,
   "id": "competent-diving",
   "metadata": {},
   "outputs": [
    {
     "data": {
      "text/plain": [
       "'2.8.0'"
      ]
     },
     "execution_count": 43,
     "metadata": {},
     "output_type": "execute_result"
    }
   ],
   "source": [
    "tf.__version__"
   ]
  },
  {
   "cell_type": "code",
   "execution_count": 44,
   "id": "waiting-skating",
   "metadata": {},
   "outputs": [],
   "source": [
    "### Lets do the prediction and check performance metrics\n",
    "\n",
    "train_predict=model.predict(X_train)\n",
    "test_predict=model.predict(X_test)"
   ]
  },
  {
   "cell_type": "code",
   "execution_count": 50,
   "id": "mathematical-touch",
   "metadata": {},
   "outputs": [],
   "source": [
    "## Transform back to original form\n",
    "\n",
    "train_predict=scaler.inverse_transform(train_predict)\n",
    "test_predict=scaler.inverse_transform(test_predict)"
   ]
  },
  {
   "cell_type": "code",
   "execution_count": 51,
   "id": "motivated-liquid",
   "metadata": {},
   "outputs": [
    {
     "data": {
      "text/plain": [
       "210.29747411632871"
      ]
     },
     "execution_count": 51,
     "metadata": {},
     "output_type": "execute_result"
    }
   ],
   "source": [
    "### Calculate RMSE performace metrics\n",
    "\n",
    "import math\n",
    "from sklearn.metrics import mean_squared_error\n",
    "math.sqrt(mean_squared_error(Y_train,train_predict))"
   ]
  },
  {
   "cell_type": "code",
   "execution_count": 52,
   "id": "computational-sauce",
   "metadata": {},
   "outputs": [
    {
     "data": {
      "text/plain": [
       "144.7076085190451"
      ]
     },
     "execution_count": 52,
     "metadata": {},
     "output_type": "execute_result"
    }
   ],
   "source": [
    "### Test data RMSE\n",
    "\n",
    "math.sqrt(mean_squared_error(Y_test, test_predict))"
   ]
  },
  {
   "cell_type": "code",
   "execution_count": 53,
   "id": "variable-immigration",
   "metadata": {},
   "outputs": [
    {
     "data": {
      "image/png": "[encoded data removed]",
      "text/plain": [
       "<Figure size 432x288 with 1 Axes>"
      ]
     },
     "metadata": {
      "needs_background": "light"
     },
     "output_type": "display_data"
    }
   ],
   "source": [
    "### Plotting\n",
    "# shift train prediction for plotting\n",
    "look_back=100\n",
    "trainPredictPlot = numpy.empty_like(df1)\n",
    "trainPredictPlot[:,:] = np.nan\n",
    "trainPredictPlot[look_back:len(train_predict)+look_back,:] = train_predict\n",
    "\n",
    "# shift test predictions for plotting\n",
    "testPredictPlot = numpy.empty_like(df1)\n",
    "testPredictPlot[:,:] = numpy.nan\n",
    "testPredictPlot[len(train_predict)+(look_back*2)+1:len(df1)-1,:] = test_predict\n",
    "\n",
    "# plot baseline and pedictions\n",
    "plt.plot(scaler.inverse_transform(df1))\n",
    "plt.plot(trainPredictPlot)\n",
    "plt.plot(testPredictPlot)\n",
    "plt.show()"
   ]
  },
  {
   "cell_type": "code",
   "execution_count": 54,
   "id": "earned-poland",
   "metadata": {},
   "outputs": [
    {
     "data": {
      "text/plain": [
       "(1, 100)"
      ]
     },
     "execution_count": 54,
     "metadata": {},
     "output_type": "execute_result"
    }
   ],
   "source": [
    "x_input=test_data[341:].reshape(1,-1)\n",
    "x_input.shape"
   ]
  },
  {
   "cell_type": "code",
   "execution_count": 55,
   "id": "referenced-darkness",
   "metadata": {},
   "outputs": [],
   "source": [
    "temp_input=list(x_input)\n",
    "temp_input=temp_input[0].tolist() "
   ]
  },
  {
   "cell_type": "code",
   "execution_count": 59,
   "id": "furnished-communist",
   "metadata": {},
   "outputs": [
    {
     "name": "stdout",
     "output_type": "stream",
     "text": [
      "[0.16508693]\n",
      "101\n",
      "101\n",
      "1 day input [0.08681277 0.08969317 0.08090169 0.08583594 0.08806512 0.09129618\n",
      " 0.09031935 0.09009393 0.08683782 0.085335   0.09247339 0.09517846\n",
      " 0.09946149 0.10499687 0.10624922 0.10680025 0.10482154 0.10469631\n",
      " 0.1063995  0.10522229 0.11453976 0.10760175 0.10549781 0.10815279\n",
      " 0.11183469 0.1105072  0.1113087  0.10920476 0.1101315  0.10289292\n",
      " 0.10276769 0.10807765 0.10810269 0.11060739 0.11684408 0.12781465\n",
      " 0.13452724 0.13570445 0.13668128 0.13800877 0.12515967 0.13375078\n",
      " 0.14642455 0.14509706 0.14256731 0.1377583  0.14647464 0.16115216\n",
      " 0.17092048 0.16961803 0.181866   0.17257358 0.16904195 0.18149029\n",
      " 0.16385723 0.16105197 0.15757044 0.16568566 0.17232311 0.17392611\n",
      " 0.18407013 0.18146525 0.18169067 0.17873513 0.17715717 0.18827802\n",
      " 0.18249217 0.17051972 0.16320601 0.16363181 0.1636819  0.17092048\n",
      " 0.17204759 0.1636819  0.16588604 0.15769568 0.14875391 0.14444584\n",
      " 0.13918597 0.13720726 0.13259862 0.1323732  0.13119599 0.15902317\n",
      " 0.17016907 0.16974327 0.17282405 0.16546024 0.16418284 0.16235441\n",
      " 0.1702943  0.17392611 0.16350657 0.15479023 0.15539136 0.16518472\n",
      " 0.16458359 0.15539136 0.15143394 0.16508693]\n",
      "2 day input [0.08681277 0.08969317 0.08090169 0.08583594 0.08806512 0.09129618\n",
      " 0.09031935 0.09009393 0.08683782 0.085335   0.09247339 0.09517846\n",
      " 0.09946149 0.10499687 0.10624922 0.10680025 0.10482154 0.10469631\n",
      " 0.1063995  0.10522229 0.11453976 0.10760175 0.10549781 0.10815279\n",
      " 0.11183469 0.1105072  0.1113087  0.10920476 0.1101315  0.10289292\n",
      " 0.10276769 0.10807765 0.10810269 0.11060739 0.11684408 0.12781465\n",
      " 0.13452724 0.13570445 0.13668128 0.13800877 0.12515967 0.13375078\n",
      " 0.14642455 0.14509706 0.14256731 0.1377583  0.14647464 0.16115216\n",
      " 0.17092048 0.16961803 0.181866   0.17257358 0.16904195 0.18149029\n",
      " 0.16385723 0.16105197 0.15757044 0.16568566 0.17232311 0.17392611\n",
      " 0.18407013 0.18146525 0.18169067 0.17873513 0.17715717 0.18827802\n",
      " 0.18249217 0.17051972 0.16320601 0.16363181 0.1636819  0.17092048\n",
      " 0.17204759 0.1636819  0.16588604 0.15769568 0.14875391 0.14444584\n",
      " 0.13918597 0.13720726 0.13259862 0.1323732  0.13119599 0.15902317\n",
      " 0.17016907 0.16974327 0.17282405 0.16546024 0.16418284 0.16235441\n",
      " 0.1702943  0.17392611 0.16350657 0.15479023 0.15539136 0.16518472\n",
      " 0.16458359 0.15539136 0.15143394 0.16508693]\n",
      "3 day input [0.08681277 0.08969317 0.08090169 0.08583594 0.08806512 0.09129618\n",
      " 0.09031935 0.09009393 0.08683782 0.085335   0.09247339 0.09517846\n",
      " 0.09946149 0.10499687 0.10624922 0.10680025 0.10482154 0.10469631\n",
      " 0.1063995  0.10522229 0.11453976 0.10760175 0.10549781 0.10815279\n",
      " 0.11183469 0.1105072  0.1113087  0.10920476 0.1101315  0.10289292\n",
      " 0.10276769 0.10807765 0.10810269 0.11060739 0.11684408 0.12781465\n",
      " 0.13452724 0.13570445 0.13668128 0.13800877 0.12515967 0.13375078\n",
      " 0.14642455 0.14509706 0.14256731 0.1377583  0.14647464 0.16115216\n",
      " 0.17092048 0.16961803 0.181866   0.17257358 0.16904195 0.18149029\n",
      " 0.16385723 0.16105197 0.15757044 0.16568566 0.17232311 0.17392611\n",
      " 0.18407013 0.18146525 0.18169067 0.17873513 0.17715717 0.18827802\n",
      " 0.18249217 0.17051972 0.16320601 0.16363181 0.1636819  0.17092048\n",
      " 0.17204759 0.1636819  0.16588604 0.15769568 0.14875391 0.14444584\n",
      " 0.13918597 0.13720726 0.13259862 0.1323732  0.13119599 0.15902317\n",
      " 0.17016907 0.16974327 0.17282405 0.16546024 0.16418284 0.16235441\n",
      " 0.1702943  0.17392611 0.16350657 0.15479023 0.15539136 0.16518472\n",
      " 0.16458359 0.15539136 0.15143394 0.16508693]\n",
      "4 day input [0.08681277 0.08969317 0.08090169 0.08583594 0.08806512 0.09129618\n",
      " 0.09031935 0.09009393 0.08683782 0.085335   0.09247339 0.09517846\n",
      " 0.09946149 0.10499687 0.10624922 0.10680025 0.10482154 0.10469631\n",
      " 0.1063995  0.10522229 0.11453976 0.10760175 0.10549781 0.10815279\n",
      " 0.11183469 0.1105072  0.1113087  0.10920476 0.1101315  0.10289292\n",
      " 0.10276769 0.10807765 0.10810269 0.11060739 0.11684408 0.12781465\n",
      " 0.13452724 0.13570445 0.13668128 0.13800877 0.12515967 0.13375078\n",
      " 0.14642455 0.14509706 0.14256731 0.1377583  0.14647464 0.16115216\n",
      " 0.17092048 0.16961803 0.181866   0.17257358 0.16904195 0.18149029\n",
      " 0.16385723 0.16105197 0.15757044 0.16568566 0.17232311 0.17392611\n",
      " 0.18407013 0.18146525 0.18169067 0.17873513 0.17715717 0.18827802\n",
      " 0.18249217 0.17051972 0.16320601 0.16363181 0.1636819  0.17092048\n",
      " 0.17204759 0.1636819  0.16588604 0.15769568 0.14875391 0.14444584\n",
      " 0.13918597 0.13720726 0.13259862 0.1323732  0.13119599 0.15902317\n",
      " 0.17016907 0.16974327 0.17282405 0.16546024 0.16418284 0.16235441\n",
      " 0.1702943  0.17392611 0.16350657 0.15479023 0.15539136 0.16518472\n",
      " 0.16458359 0.15539136 0.15143394 0.16508693]\n",
      "5 day input [0.08681277 0.08969317 0.08090169 0.08583594 0.08806512 0.09129618\n",
      " 0.09031935 0.09009393 0.08683782 0.085335   0.09247339 0.09517846\n",
      " 0.09946149 0.10499687 0.10624922 0.10680025 0.10482154 0.10469631\n",
      " 0.1063995  0.10522229 0.11453976 0.10760175 0.10549781 0.10815279\n",
      " 0.11183469 0.1105072  0.1113087  0.10920476 0.1101315  0.10289292\n",
      " 0.10276769 0.10807765 0.10810269 0.11060739 0.11684408 0.12781465\n",
      " 0.13452724 0.13570445 0.13668128 0.13800877 0.12515967 0.13375078\n",
      " 0.14642455 0.14509706 0.14256731 0.1377583  0.14647464 0.16115216\n",
      " 0.17092048 0.16961803 0.181866   0.17257358 0.16904195 0.18149029\n",
      " 0.16385723 0.16105197 0.15757044 0.16568566 0.17232311 0.17392611\n",
      " 0.18407013 0.18146525 0.18169067 0.17873513 0.17715717 0.18827802\n",
      " 0.18249217 0.17051972 0.16320601 0.16363181 0.1636819  0.17092048\n",
      " 0.17204759 0.1636819  0.16588604 0.15769568 0.14875391 0.14444584\n",
      " 0.13918597 0.13720726 0.13259862 0.1323732  0.13119599 0.15902317\n",
      " 0.17016907 0.16974327 0.17282405 0.16546024 0.16418284 0.16235441\n",
      " 0.1702943  0.17392611 0.16350657 0.15479023 0.15539136 0.16518472\n",
      " 0.16458359 0.15539136 0.15143394 0.16508693]\n",
      "6 day input [0.08681277 0.08969317 0.08090169 0.08583594 0.08806512 0.09129618\n",
      " 0.09031935 0.09009393 0.08683782 0.085335   0.09247339 0.09517846\n",
      " 0.09946149 0.10499687 0.10624922 0.10680025 0.10482154 0.10469631\n",
      " 0.1063995  0.10522229 0.11453976 0.10760175 0.10549781 0.10815279\n",
      " 0.11183469 0.1105072  0.1113087  0.10920476 0.1101315  0.10289292\n",
      " 0.10276769 0.10807765 0.10810269 0.11060739 0.11684408 0.12781465\n",
      " 0.13452724 0.13570445 0.13668128 0.13800877 0.12515967 0.13375078\n",
      " 0.14642455 0.14509706 0.14256731 0.1377583  0.14647464 0.16115216\n",
      " 0.17092048 0.16961803 0.181866   0.17257358 0.16904195 0.18149029\n",
      " 0.16385723 0.16105197 0.15757044 0.16568566 0.17232311 0.17392611\n",
      " 0.18407013 0.18146525 0.18169067 0.17873513 0.17715717 0.18827802\n",
      " 0.18249217 0.17051972 0.16320601 0.16363181 0.1636819  0.17092048\n",
      " 0.17204759 0.1636819  0.16588604 0.15769568 0.14875391 0.14444584\n",
      " 0.13918597 0.13720726 0.13259862 0.1323732  0.13119599 0.15902317\n",
      " 0.17016907 0.16974327 0.17282405 0.16546024 0.16418284 0.16235441\n",
      " 0.1702943  0.17392611 0.16350657 0.15479023 0.15539136 0.16518472\n",
      " 0.16458359 0.15539136 0.15143394 0.16508693]\n",
      "7 day input [0.08681277 0.08969317 0.08090169 0.08583594 0.08806512 0.09129618\n",
      " 0.09031935 0.09009393 0.08683782 0.085335   0.09247339 0.09517846\n",
      " 0.09946149 0.10499687 0.10624922 0.10680025 0.10482154 0.10469631\n",
      " 0.1063995  0.10522229 0.11453976 0.10760175 0.10549781 0.10815279\n",
      " 0.11183469 0.1105072  0.1113087  0.10920476 0.1101315  0.10289292\n",
      " 0.10276769 0.10807765 0.10810269 0.11060739 0.11684408 0.12781465\n",
      " 0.13452724 0.13570445 0.13668128 0.13800877 0.12515967 0.13375078\n",
      " 0.14642455 0.14509706 0.14256731 0.1377583  0.14647464 0.16115216\n",
      " 0.17092048 0.16961803 0.181866   0.17257358 0.16904195 0.18149029\n",
      " 0.16385723 0.16105197 0.15757044 0.16568566 0.17232311 0.17392611\n",
      " 0.18407013 0.18146525 0.18169067 0.17873513 0.17715717 0.18827802\n",
      " 0.18249217 0.17051972 0.16320601 0.16363181 0.1636819  0.17092048\n",
      " 0.17204759 0.1636819  0.16588604 0.15769568 0.14875391 0.14444584\n",
      " 0.13918597 0.13720726 0.13259862 0.1323732  0.13119599 0.15902317\n",
      " 0.17016907 0.16974327 0.17282405 0.16546024 0.16418284 0.16235441\n",
      " 0.1702943  0.17392611 0.16350657 0.15479023 0.15539136 0.16518472\n",
      " 0.16458359 0.15539136 0.15143394 0.16508693]\n",
      "8 day input [0.08681277 0.08969317 0.08090169 0.08583594 0.08806512 0.09129618\n",
      " 0.09031935 0.09009393 0.08683782 0.085335   0.09247339 0.09517846\n",
      " 0.09946149 0.10499687 0.10624922 0.10680025 0.10482154 0.10469631\n",
      " 0.1063995  0.10522229 0.11453976 0.10760175 0.10549781 0.10815279\n",
      " 0.11183469 0.1105072  0.1113087  0.10920476 0.1101315  0.10289292\n",
      " 0.10276769 0.10807765 0.10810269 0.11060739 0.11684408 0.12781465\n",
      " 0.13452724 0.13570445 0.13668128 0.13800877 0.12515967 0.13375078\n",
      " 0.14642455 0.14509706 0.14256731 0.1377583  0.14647464 0.16115216\n",
      " 0.17092048 0.16961803 0.181866   0.17257358 0.16904195 0.18149029\n",
      " 0.16385723 0.16105197 0.15757044 0.16568566 0.17232311 0.17392611\n",
      " 0.18407013 0.18146525 0.18169067 0.17873513 0.17715717 0.18827802\n",
      " 0.18249217 0.17051972 0.16320601 0.16363181 0.1636819  0.17092048\n",
      " 0.17204759 0.1636819  0.16588604 0.15769568 0.14875391 0.14444584\n",
      " 0.13918597 0.13720726 0.13259862 0.1323732  0.13119599 0.15902317\n",
      " 0.17016907 0.16974327 0.17282405 0.16546024 0.16418284 0.16235441\n",
      " 0.1702943  0.17392611 0.16350657 0.15479023 0.15539136 0.16518472\n",
      " 0.16458359 0.15539136 0.15143394 0.16508693]\n",
      "9 day input [0.08681277 0.08969317 0.08090169 0.08583594 0.08806512 0.09129618\n",
      " 0.09031935 0.09009393 0.08683782 0.085335   0.09247339 0.09517846\n",
      " 0.09946149 0.10499687 0.10624922 0.10680025 0.10482154 0.10469631\n",
      " 0.1063995  0.10522229 0.11453976 0.10760175 0.10549781 0.10815279\n",
      " 0.11183469 0.1105072  0.1113087  0.10920476 0.1101315  0.10289292\n",
      " 0.10276769 0.10807765 0.10810269 0.11060739 0.11684408 0.12781465\n",
      " 0.13452724 0.13570445 0.13668128 0.13800877 0.12515967 0.13375078\n",
      " 0.14642455 0.14509706 0.14256731 0.1377583  0.14647464 0.16115216\n",
      " 0.17092048 0.16961803 0.181866   0.17257358 0.16904195 0.18149029\n",
      " 0.16385723 0.16105197 0.15757044 0.16568566 0.17232311 0.17392611\n",
      " 0.18407013 0.18146525 0.18169067 0.17873513 0.17715717 0.18827802\n",
      " 0.18249217 0.17051972 0.16320601 0.16363181 0.1636819  0.17092048\n",
      " 0.17204759 0.1636819  0.16588604 0.15769568 0.14875391 0.14444584\n",
      " 0.13918597 0.13720726 0.13259862 0.1323732  0.13119599 0.15902317\n",
      " 0.17016907 0.16974327 0.17282405 0.16546024 0.16418284 0.16235441\n",
      " 0.1702943  0.17392611 0.16350657 0.15479023 0.15539136 0.16518472\n",
      " 0.16458359 0.15539136 0.15143394 0.16508693]\n",
      "10 day input [0.08681277 0.08969317 0.08090169 0.08583594 0.08806512 0.09129618\n",
      " 0.09031935 0.09009393 0.08683782 0.085335   0.09247339 0.09517846\n",
      " 0.09946149 0.10499687 0.10624922 0.10680025 0.10482154 0.10469631\n",
      " 0.1063995  0.10522229 0.11453976 0.10760175 0.10549781 0.10815279\n",
      " 0.11183469 0.1105072  0.1113087  0.10920476 0.1101315  0.10289292\n",
      " 0.10276769 0.10807765 0.10810269 0.11060739 0.11684408 0.12781465\n",
      " 0.13452724 0.13570445 0.13668128 0.13800877 0.12515967 0.13375078\n",
      " 0.14642455 0.14509706 0.14256731 0.1377583  0.14647464 0.16115216\n",
      " 0.17092048 0.16961803 0.181866   0.17257358 0.16904195 0.18149029\n",
      " 0.16385723 0.16105197 0.15757044 0.16568566 0.17232311 0.17392611\n",
      " 0.18407013 0.18146525 0.18169067 0.17873513 0.17715717 0.18827802\n",
      " 0.18249217 0.17051972 0.16320601 0.16363181 0.1636819  0.17092048\n",
      " 0.17204759 0.1636819  0.16588604 0.15769568 0.14875391 0.14444584\n",
      " 0.13918597 0.13720726 0.13259862 0.1323732  0.13119599 0.15902317\n",
      " 0.17016907 0.16974327 0.17282405 0.16546024 0.16418284 0.16235441\n",
      " 0.1702943  0.17392611 0.16350657 0.15479023 0.15539136 0.16518472\n",
      " 0.16458359 0.15539136 0.15143394 0.16508693]\n",
      "11 day input [0.08681277 0.08969317 0.08090169 0.08583594 0.08806512 0.09129618\n",
      " 0.09031935 0.09009393 0.08683782 0.085335   0.09247339 0.09517846\n",
      " 0.09946149 0.10499687 0.10624922 0.10680025 0.10482154 0.10469631\n",
      " 0.1063995  0.10522229 0.11453976 0.10760175 0.10549781 0.10815279\n",
      " 0.11183469 0.1105072  0.1113087  0.10920476 0.1101315  0.10289292\n",
      " 0.10276769 0.10807765 0.10810269 0.11060739 0.11684408 0.12781465\n",
      " 0.13452724 0.13570445 0.13668128 0.13800877 0.12515967 0.13375078\n",
      " 0.14642455 0.14509706 0.14256731 0.1377583  0.14647464 0.16115216\n",
      " 0.17092048 0.16961803 0.181866   0.17257358 0.16904195 0.18149029\n",
      " 0.16385723 0.16105197 0.15757044 0.16568566 0.17232311 0.17392611\n",
      " 0.18407013 0.18146525 0.18169067 0.17873513 0.17715717 0.18827802\n",
      " 0.18249217 0.17051972 0.16320601 0.16363181 0.1636819  0.17092048\n",
      " 0.17204759 0.1636819  0.16588604 0.15769568 0.14875391 0.14444584\n",
      " 0.13918597 0.13720726 0.13259862 0.1323732  0.13119599 0.15902317\n",
      " 0.17016907 0.16974327 0.17282405 0.16546024 0.16418284 0.16235441\n",
      " 0.1702943  0.17392611 0.16350657 0.15479023 0.15539136 0.16518472\n",
      " 0.16458359 0.15539136 0.15143394 0.16508693]\n",
      "12 day input [0.08681277 0.08969317 0.08090169 0.08583594 0.08806512 0.09129618\n",
      " 0.09031935 0.09009393 0.08683782 0.085335   0.09247339 0.09517846\n",
      " 0.09946149 0.10499687 0.10624922 0.10680025 0.10482154 0.10469631\n",
      " 0.1063995  0.10522229 0.11453976 0.10760175 0.10549781 0.10815279\n",
      " 0.11183469 0.1105072  0.1113087  0.10920476 0.1101315  0.10289292\n",
      " 0.10276769 0.10807765 0.10810269 0.11060739 0.11684408 0.12781465\n",
      " 0.13452724 0.13570445 0.13668128 0.13800877 0.12515967 0.13375078\n",
      " 0.14642455 0.14509706 0.14256731 0.1377583  0.14647464 0.16115216\n",
      " 0.17092048 0.16961803 0.181866   0.17257358 0.16904195 0.18149029\n",
      " 0.16385723 0.16105197 0.15757044 0.16568566 0.17232311 0.17392611\n",
      " 0.18407013 0.18146525 0.18169067 0.17873513 0.17715717 0.18827802\n",
      " 0.18249217 0.17051972 0.16320601 0.16363181 0.1636819  0.17092048\n",
      " 0.17204759 0.1636819  0.16588604 0.15769568 0.14875391 0.14444584\n",
      " 0.13918597 0.13720726 0.13259862 0.1323732  0.13119599 0.15902317\n",
      " 0.17016907 0.16974327 0.17282405 0.16546024 0.16418284 0.16235441\n",
      " 0.1702943  0.17392611 0.16350657 0.15479023 0.15539136 0.16518472\n",
      " 0.16458359 0.15539136 0.15143394 0.16508693]\n",
      "13 day input [0.08681277 0.08969317 0.08090169 0.08583594 0.08806512 0.09129618\n",
      " 0.09031935 0.09009393 0.08683782 0.085335   0.09247339 0.09517846\n",
      " 0.09946149 0.10499687 0.10624922 0.10680025 0.10482154 0.10469631\n",
      " 0.1063995  0.10522229 0.11453976 0.10760175 0.10549781 0.10815279\n",
      " 0.11183469 0.1105072  0.1113087  0.10920476 0.1101315  0.10289292\n",
      " 0.10276769 0.10807765 0.10810269 0.11060739 0.11684408 0.12781465\n",
      " 0.13452724 0.13570445 0.13668128 0.13800877 0.12515967 0.13375078\n",
      " 0.14642455 0.14509706 0.14256731 0.1377583  0.14647464 0.16115216\n",
      " 0.17092048 0.16961803 0.181866   0.17257358 0.16904195 0.18149029\n",
      " 0.16385723 0.16105197 0.15757044 0.16568566 0.17232311 0.17392611\n",
      " 0.18407013 0.18146525 0.18169067 0.17873513 0.17715717 0.18827802\n",
      " 0.18249217 0.17051972 0.16320601 0.16363181 0.1636819  0.17092048\n",
      " 0.17204759 0.1636819  0.16588604 0.15769568 0.14875391 0.14444584\n",
      " 0.13918597 0.13720726 0.13259862 0.1323732  0.13119599 0.15902317\n",
      " 0.17016907 0.16974327 0.17282405 0.16546024 0.16418284 0.16235441\n",
      " 0.1702943  0.17392611 0.16350657 0.15479023 0.15539136 0.16518472\n",
      " 0.16458359 0.15539136 0.15143394 0.16508693]\n",
      "14 day input [0.08681277 0.08969317 0.08090169 0.08583594 0.08806512 0.09129618\n",
      " 0.09031935 0.09009393 0.08683782 0.085335   0.09247339 0.09517846\n",
      " 0.09946149 0.10499687 0.10624922 0.10680025 0.10482154 0.10469631\n",
      " 0.1063995  0.10522229 0.11453976 0.10760175 0.10549781 0.10815279\n",
      " 0.11183469 0.1105072  0.1113087  0.10920476 0.1101315  0.10289292\n",
      " 0.10276769 0.10807765 0.10810269 0.11060739 0.11684408 0.12781465\n",
      " 0.13452724 0.13570445 0.13668128 0.13800877 0.12515967 0.13375078\n",
      " 0.14642455 0.14509706 0.14256731 0.1377583  0.14647464 0.16115216\n",
      " 0.17092048 0.16961803 0.181866   0.17257358 0.16904195 0.18149029\n",
      " 0.16385723 0.16105197 0.15757044 0.16568566 0.17232311 0.17392611\n",
      " 0.18407013 0.18146525 0.18169067 0.17873513 0.17715717 0.18827802\n",
      " 0.18249217 0.17051972 0.16320601 0.16363181 0.1636819  0.17092048\n",
      " 0.17204759 0.1636819  0.16588604 0.15769568 0.14875391 0.14444584\n",
      " 0.13918597 0.13720726 0.13259862 0.1323732  0.13119599 0.15902317\n",
      " 0.17016907 0.16974327 0.17282405 0.16546024 0.16418284 0.16235441\n",
      " 0.1702943  0.17392611 0.16350657 0.15479023 0.15539136 0.16518472\n",
      " 0.16458359 0.15539136 0.15143394 0.16508693]\n",
      "15 day input [0.08681277 0.08969317 0.08090169 0.08583594 0.08806512 0.09129618\n",
      " 0.09031935 0.09009393 0.08683782 0.085335   0.09247339 0.09517846\n",
      " 0.09946149 0.10499687 0.10624922 0.10680025 0.10482154 0.10469631\n",
      " 0.1063995  0.10522229 0.11453976 0.10760175 0.10549781 0.10815279\n",
      " 0.11183469 0.1105072  0.1113087  0.10920476 0.1101315  0.10289292\n",
      " 0.10276769 0.10807765 0.10810269 0.11060739 0.11684408 0.12781465\n",
      " 0.13452724 0.13570445 0.13668128 0.13800877 0.12515967 0.13375078\n",
      " 0.14642455 0.14509706 0.14256731 0.1377583  0.14647464 0.16115216\n",
      " 0.17092048 0.16961803 0.181866   0.17257358 0.16904195 0.18149029\n",
      " 0.16385723 0.16105197 0.15757044 0.16568566 0.17232311 0.17392611\n",
      " 0.18407013 0.18146525 0.18169067 0.17873513 0.17715717 0.18827802\n",
      " 0.18249217 0.17051972 0.16320601 0.16363181 0.1636819  0.17092048\n",
      " 0.17204759 0.1636819  0.16588604 0.15769568 0.14875391 0.14444584\n",
      " 0.13918597 0.13720726 0.13259862 0.1323732  0.13119599 0.15902317\n",
      " 0.17016907 0.16974327 0.17282405 0.16546024 0.16418284 0.16235441\n",
      " 0.1702943  0.17392611 0.16350657 0.15479023 0.15539136 0.16518472\n",
      " 0.16458359 0.15539136 0.15143394 0.16508693]\n",
      "16 day input [0.08681277 0.08969317 0.08090169 0.08583594 0.08806512 0.09129618\n",
      " 0.09031935 0.09009393 0.08683782 0.085335   0.09247339 0.09517846\n",
      " 0.09946149 0.10499687 0.10624922 0.10680025 0.10482154 0.10469631\n",
      " 0.1063995  0.10522229 0.11453976 0.10760175 0.10549781 0.10815279\n",
      " 0.11183469 0.1105072  0.1113087  0.10920476 0.1101315  0.10289292\n",
      " 0.10276769 0.10807765 0.10810269 0.11060739 0.11684408 0.12781465\n",
      " 0.13452724 0.13570445 0.13668128 0.13800877 0.12515967 0.13375078\n",
      " 0.14642455 0.14509706 0.14256731 0.1377583  0.14647464 0.16115216\n",
      " 0.17092048 0.16961803 0.181866   0.17257358 0.16904195 0.18149029\n",
      " 0.16385723 0.16105197 0.15757044 0.16568566 0.17232311 0.17392611\n",
      " 0.18407013 0.18146525 0.18169067 0.17873513 0.17715717 0.18827802\n",
      " 0.18249217 0.17051972 0.16320601 0.16363181 0.1636819  0.17092048\n",
      " 0.17204759 0.1636819  0.16588604 0.15769568 0.14875391 0.14444584\n",
      " 0.13918597 0.13720726 0.13259862 0.1323732  0.13119599 0.15902317\n",
      " 0.17016907 0.16974327 0.17282405 0.16546024 0.16418284 0.16235441\n",
      " 0.1702943  0.17392611 0.16350657 0.15479023 0.15539136 0.16518472\n",
      " 0.16458359 0.15539136 0.15143394 0.16508693]\n",
      "17 day input [0.08681277 0.08969317 0.08090169 0.08583594 0.08806512 0.09129618\n",
      " 0.09031935 0.09009393 0.08683782 0.085335   0.09247339 0.09517846\n",
      " 0.09946149 0.10499687 0.10624922 0.10680025 0.10482154 0.10469631\n",
      " 0.1063995  0.10522229 0.11453976 0.10760175 0.10549781 0.10815279\n",
      " 0.11183469 0.1105072  0.1113087  0.10920476 0.1101315  0.10289292\n",
      " 0.10276769 0.10807765 0.10810269 0.11060739 0.11684408 0.12781465\n",
      " 0.13452724 0.13570445 0.13668128 0.13800877 0.12515967 0.13375078\n",
      " 0.14642455 0.14509706 0.14256731 0.1377583  0.14647464 0.16115216\n",
      " 0.17092048 0.16961803 0.181866   0.17257358 0.16904195 0.18149029\n",
      " 0.16385723 0.16105197 0.15757044 0.16568566 0.17232311 0.17392611\n",
      " 0.18407013 0.18146525 0.18169067 0.17873513 0.17715717 0.18827802\n",
      " 0.18249217 0.17051972 0.16320601 0.16363181 0.1636819  0.17092048\n",
      " 0.17204759 0.1636819  0.16588604 0.15769568 0.14875391 0.14444584\n",
      " 0.13918597 0.13720726 0.13259862 0.1323732  0.13119599 0.15902317\n",
      " 0.17016907 0.16974327 0.17282405 0.16546024 0.16418284 0.16235441\n",
      " 0.1702943  0.17392611 0.16350657 0.15479023 0.15539136 0.16518472\n",
      " 0.16458359 0.15539136 0.15143394 0.16508693]\n",
      "18 day input [0.08681277 0.08969317 0.08090169 0.08583594 0.08806512 0.09129618\n",
      " 0.09031935 0.09009393 0.08683782 0.085335   0.09247339 0.09517846\n",
      " 0.09946149 0.10499687 0.10624922 0.10680025 0.10482154 0.10469631\n",
      " 0.1063995  0.10522229 0.11453976 0.10760175 0.10549781 0.10815279\n",
      " 0.11183469 0.1105072  0.1113087  0.10920476 0.1101315  0.10289292\n",
      " 0.10276769 0.10807765 0.10810269 0.11060739 0.11684408 0.12781465\n",
      " 0.13452724 0.13570445 0.13668128 0.13800877 0.12515967 0.13375078\n",
      " 0.14642455 0.14509706 0.14256731 0.1377583  0.14647464 0.16115216\n",
      " 0.17092048 0.16961803 0.181866   0.17257358 0.16904195 0.18149029\n",
      " 0.16385723 0.16105197 0.15757044 0.16568566 0.17232311 0.17392611\n",
      " 0.18407013 0.18146525 0.18169067 0.17873513 0.17715717 0.18827802\n",
      " 0.18249217 0.17051972 0.16320601 0.16363181 0.1636819  0.17092048\n",
      " 0.17204759 0.1636819  0.16588604 0.15769568 0.14875391 0.14444584\n",
      " 0.13918597 0.13720726 0.13259862 0.1323732  0.13119599 0.15902317\n",
      " 0.17016907 0.16974327 0.17282405 0.16546024 0.16418284 0.16235441\n",
      " 0.1702943  0.17392611 0.16350657 0.15479023 0.15539136 0.16518472\n",
      " 0.16458359 0.15539136 0.15143394 0.16508693]\n",
      "19 day input [0.08681277 0.08969317 0.08090169 0.08583594 0.08806512 0.09129618\n",
      " 0.09031935 0.09009393 0.08683782 0.085335   0.09247339 0.09517846\n",
      " 0.09946149 0.10499687 0.10624922 0.10680025 0.10482154 0.10469631\n",
      " 0.1063995  0.10522229 0.11453976 0.10760175 0.10549781 0.10815279\n",
      " 0.11183469 0.1105072  0.1113087  0.10920476 0.1101315  0.10289292\n",
      " 0.10276769 0.10807765 0.10810269 0.11060739 0.11684408 0.12781465\n",
      " 0.13452724 0.13570445 0.13668128 0.13800877 0.12515967 0.13375078\n",
      " 0.14642455 0.14509706 0.14256731 0.1377583  0.14647464 0.16115216\n",
      " 0.17092048 0.16961803 0.181866   0.17257358 0.16904195 0.18149029\n",
      " 0.16385723 0.16105197 0.15757044 0.16568566 0.17232311 0.17392611\n",
      " 0.18407013 0.18146525 0.18169067 0.17873513 0.17715717 0.18827802\n",
      " 0.18249217 0.17051972 0.16320601 0.16363181 0.1636819  0.17092048\n",
      " 0.17204759 0.1636819  0.16588604 0.15769568 0.14875391 0.14444584\n",
      " 0.13918597 0.13720726 0.13259862 0.1323732  0.13119599 0.15902317\n",
      " 0.17016907 0.16974327 0.17282405 0.16546024 0.16418284 0.16235441\n",
      " 0.1702943  0.17392611 0.16350657 0.15479023 0.15539136 0.16518472\n",
      " 0.16458359 0.15539136 0.15143394 0.16508693]\n",
      "20 day input [0.08681277 0.08969317 0.08090169 0.08583594 0.08806512 0.09129618\n",
      " 0.09031935 0.09009393 0.08683782 0.085335   0.09247339 0.09517846\n",
      " 0.09946149 0.10499687 0.10624922 0.10680025 0.10482154 0.10469631\n",
      " 0.1063995  0.10522229 0.11453976 0.10760175 0.10549781 0.10815279\n",
      " 0.11183469 0.1105072  0.1113087  0.10920476 0.1101315  0.10289292\n",
      " 0.10276769 0.10807765 0.10810269 0.11060739 0.11684408 0.12781465\n",
      " 0.13452724 0.13570445 0.13668128 0.13800877 0.12515967 0.13375078\n",
      " 0.14642455 0.14509706 0.14256731 0.1377583  0.14647464 0.16115216\n",
      " 0.17092048 0.16961803 0.181866   0.17257358 0.16904195 0.18149029\n",
      " 0.16385723 0.16105197 0.15757044 0.16568566 0.17232311 0.17392611\n",
      " 0.18407013 0.18146525 0.18169067 0.17873513 0.17715717 0.18827802\n",
      " 0.18249217 0.17051972 0.16320601 0.16363181 0.1636819  0.17092048\n",
      " 0.17204759 0.1636819  0.16588604 0.15769568 0.14875391 0.14444584\n",
      " 0.13918597 0.13720726 0.13259862 0.1323732  0.13119599 0.15902317\n",
      " 0.17016907 0.16974327 0.17282405 0.16546024 0.16418284 0.16235441\n",
      " 0.1702943  0.17392611 0.16350657 0.15479023 0.15539136 0.16518472\n",
      " 0.16458359 0.15539136 0.15143394 0.16508693]\n",
      "21 day input [0.08681277 0.08969317 0.08090169 0.08583594 0.08806512 0.09129618\n",
      " 0.09031935 0.09009393 0.08683782 0.085335   0.09247339 0.09517846\n",
      " 0.09946149 0.10499687 0.10624922 0.10680025 0.10482154 0.10469631\n",
      " 0.1063995  0.10522229 0.11453976 0.10760175 0.10549781 0.10815279\n",
      " 0.11183469 0.1105072  0.1113087  0.10920476 0.1101315  0.10289292\n",
      " 0.10276769 0.10807765 0.10810269 0.11060739 0.11684408 0.12781465\n",
      " 0.13452724 0.13570445 0.13668128 0.13800877 0.12515967 0.13375078\n",
      " 0.14642455 0.14509706 0.14256731 0.1377583  0.14647464 0.16115216\n",
      " 0.17092048 0.16961803 0.181866   0.17257358 0.16904195 0.18149029\n",
      " 0.16385723 0.16105197 0.15757044 0.16568566 0.17232311 0.17392611\n",
      " 0.18407013 0.18146525 0.18169067 0.17873513 0.17715717 0.18827802\n",
      " 0.18249217 0.17051972 0.16320601 0.16363181 0.1636819  0.17092048\n",
      " 0.17204759 0.1636819  0.16588604 0.15769568 0.14875391 0.14444584\n",
      " 0.13918597 0.13720726 0.13259862 0.1323732  0.13119599 0.15902317\n",
      " 0.17016907 0.16974327 0.17282405 0.16546024 0.16418284 0.16235441\n",
      " 0.1702943  0.17392611 0.16350657 0.15479023 0.15539136 0.16518472\n",
      " 0.16458359 0.15539136 0.15143394 0.16508693]\n",
      "22 day input [0.08681277 0.08969317 0.08090169 0.08583594 0.08806512 0.09129618\n",
      " 0.09031935 0.09009393 0.08683782 0.085335   0.09247339 0.09517846\n",
      " 0.09946149 0.10499687 0.10624922 0.10680025 0.10482154 0.10469631\n",
      " 0.1063995  0.10522229 0.11453976 0.10760175 0.10549781 0.10815279\n",
      " 0.11183469 0.1105072  0.1113087  0.10920476 0.1101315  0.10289292\n",
      " 0.10276769 0.10807765 0.10810269 0.11060739 0.11684408 0.12781465\n",
      " 0.13452724 0.13570445 0.13668128 0.13800877 0.12515967 0.13375078\n",
      " 0.14642455 0.14509706 0.14256731 0.1377583  0.14647464 0.16115216\n",
      " 0.17092048 0.16961803 0.181866   0.17257358 0.16904195 0.18149029\n",
      " 0.16385723 0.16105197 0.15757044 0.16568566 0.17232311 0.17392611\n",
      " 0.18407013 0.18146525 0.18169067 0.17873513 0.17715717 0.18827802\n",
      " 0.18249217 0.17051972 0.16320601 0.16363181 0.1636819  0.17092048\n",
      " 0.17204759 0.1636819  0.16588604 0.15769568 0.14875391 0.14444584\n",
      " 0.13918597 0.13720726 0.13259862 0.1323732  0.13119599 0.15902317\n",
      " 0.17016907 0.16974327 0.17282405 0.16546024 0.16418284 0.16235441\n",
      " 0.1702943  0.17392611 0.16350657 0.15479023 0.15539136 0.16518472\n",
      " 0.16458359 0.15539136 0.15143394 0.16508693]\n",
      "23 day input [0.08681277 0.08969317 0.08090169 0.08583594 0.08806512 0.09129618\n",
      " 0.09031935 0.09009393 0.08683782 0.085335   0.09247339 0.09517846\n",
      " 0.09946149 0.10499687 0.10624922 0.10680025 0.10482154 0.10469631\n",
      " 0.1063995  0.10522229 0.11453976 0.10760175 0.10549781 0.10815279\n",
      " 0.11183469 0.1105072  0.1113087  0.10920476 0.1101315  0.10289292\n",
      " 0.10276769 0.10807765 0.10810269 0.11060739 0.11684408 0.12781465\n",
      " 0.13452724 0.13570445 0.13668128 0.13800877 0.12515967 0.13375078\n",
      " 0.14642455 0.14509706 0.14256731 0.1377583  0.14647464 0.16115216\n",
      " 0.17092048 0.16961803 0.181866   0.17257358 0.16904195 0.18149029\n",
      " 0.16385723 0.16105197 0.15757044 0.16568566 0.17232311 0.17392611\n",
      " 0.18407013 0.18146525 0.18169067 0.17873513 0.17715717 0.18827802\n",
      " 0.18249217 0.17051972 0.16320601 0.16363181 0.1636819  0.17092048\n",
      " 0.17204759 0.1636819  0.16588604 0.15769568 0.14875391 0.14444584\n",
      " 0.13918597 0.13720726 0.13259862 0.1323732  0.13119599 0.15902317\n",
      " 0.17016907 0.16974327 0.17282405 0.16546024 0.16418284 0.16235441\n",
      " 0.1702943  0.17392611 0.16350657 0.15479023 0.15539136 0.16518472\n",
      " 0.16458359 0.15539136 0.15143394 0.16508693]\n",
      "24 day input [0.08681277 0.08969317 0.08090169 0.08583594 0.08806512 0.09129618\n",
      " 0.09031935 0.09009393 0.08683782 0.085335   0.09247339 0.09517846\n",
      " 0.09946149 0.10499687 0.10624922 0.10680025 0.10482154 0.10469631\n",
      " 0.1063995  0.10522229 0.11453976 0.10760175 0.10549781 0.10815279\n",
      " 0.11183469 0.1105072  0.1113087  0.10920476 0.1101315  0.10289292\n",
      " 0.10276769 0.10807765 0.10810269 0.11060739 0.11684408 0.12781465\n",
      " 0.13452724 0.13570445 0.13668128 0.13800877 0.12515967 0.13375078\n",
      " 0.14642455 0.14509706 0.14256731 0.1377583  0.14647464 0.16115216\n",
      " 0.17092048 0.16961803 0.181866   0.17257358 0.16904195 0.18149029\n",
      " 0.16385723 0.16105197 0.15757044 0.16568566 0.17232311 0.17392611\n",
      " 0.18407013 0.18146525 0.18169067 0.17873513 0.17715717 0.18827802\n",
      " 0.18249217 0.17051972 0.16320601 0.16363181 0.1636819  0.17092048\n",
      " 0.17204759 0.1636819  0.16588604 0.15769568 0.14875391 0.14444584\n",
      " 0.13918597 0.13720726 0.13259862 0.1323732  0.13119599 0.15902317\n",
      " 0.17016907 0.16974327 0.17282405 0.16546024 0.16418284 0.16235441\n",
      " 0.1702943  0.17392611 0.16350657 0.15479023 0.15539136 0.16518472\n",
      " 0.16458359 0.15539136 0.15143394 0.16508693]\n",
      "25 day input [0.08681277 0.08969317 0.08090169 0.08583594 0.08806512 0.09129618\n",
      " 0.09031935 0.09009393 0.08683782 0.085335   0.09247339 0.09517846\n",
      " 0.09946149 0.10499687 0.10624922 0.10680025 0.10482154 0.10469631\n",
      " 0.1063995  0.10522229 0.11453976 0.10760175 0.10549781 0.10815279\n",
      " 0.11183469 0.1105072  0.1113087  0.10920476 0.1101315  0.10289292\n",
      " 0.10276769 0.10807765 0.10810269 0.11060739 0.11684408 0.12781465\n",
      " 0.13452724 0.13570445 0.13668128 0.13800877 0.12515967 0.13375078\n",
      " 0.14642455 0.14509706 0.14256731 0.1377583  0.14647464 0.16115216\n",
      " 0.17092048 0.16961803 0.181866   0.17257358 0.16904195 0.18149029\n",
      " 0.16385723 0.16105197 0.15757044 0.16568566 0.17232311 0.17392611\n",
      " 0.18407013 0.18146525 0.18169067 0.17873513 0.17715717 0.18827802\n",
      " 0.18249217 0.17051972 0.16320601 0.16363181 0.1636819  0.17092048\n",
      " 0.17204759 0.1636819  0.16588604 0.15769568 0.14875391 0.14444584\n",
      " 0.13918597 0.13720726 0.13259862 0.1323732  0.13119599 0.15902317\n",
      " 0.17016907 0.16974327 0.17282405 0.16546024 0.16418284 0.16235441\n",
      " 0.1702943  0.17392611 0.16350657 0.15479023 0.15539136 0.16518472\n",
      " 0.16458359 0.15539136 0.15143394 0.16508693]\n",
      "26 day input [0.08681277 0.08969317 0.08090169 0.08583594 0.08806512 0.09129618\n",
      " 0.09031935 0.09009393 0.08683782 0.085335   0.09247339 0.09517846\n",
      " 0.09946149 0.10499687 0.10624922 0.10680025 0.10482154 0.10469631\n",
      " 0.1063995  0.10522229 0.11453976 0.10760175 0.10549781 0.10815279\n",
      " 0.11183469 0.1105072  0.1113087  0.10920476 0.1101315  0.10289292\n",
      " 0.10276769 0.10807765 0.10810269 0.11060739 0.11684408 0.12781465\n",
      " 0.13452724 0.13570445 0.13668128 0.13800877 0.12515967 0.13375078\n",
      " 0.14642455 0.14509706 0.14256731 0.1377583  0.14647464 0.16115216\n",
      " 0.17092048 0.16961803 0.181866   0.17257358 0.16904195 0.18149029\n",
      " 0.16385723 0.16105197 0.15757044 0.16568566 0.17232311 0.17392611\n",
      " 0.18407013 0.18146525 0.18169067 0.17873513 0.17715717 0.18827802\n",
      " 0.18249217 0.17051972 0.16320601 0.16363181 0.1636819  0.17092048\n",
      " 0.17204759 0.1636819  0.16588604 0.15769568 0.14875391 0.14444584\n",
      " 0.13918597 0.13720726 0.13259862 0.1323732  0.13119599 0.15902317\n",
      " 0.17016907 0.16974327 0.17282405 0.16546024 0.16418284 0.16235441\n",
      " 0.1702943  0.17392611 0.16350657 0.15479023 0.15539136 0.16518472\n",
      " 0.16458359 0.15539136 0.15143394 0.16508693]\n",
      "27 day input [0.08681277 0.08969317 0.08090169 0.08583594 0.08806512 0.09129618\n",
      " 0.09031935 0.09009393 0.08683782 0.085335   0.09247339 0.09517846\n",
      " 0.09946149 0.10499687 0.10624922 0.10680025 0.10482154 0.10469631\n",
      " 0.1063995  0.10522229 0.11453976 0.10760175 0.10549781 0.10815279\n",
      " 0.11183469 0.1105072  0.1113087  0.10920476 0.1101315  0.10289292\n",
      " 0.10276769 0.10807765 0.10810269 0.11060739 0.11684408 0.12781465\n",
      " 0.13452724 0.13570445 0.13668128 0.13800877 0.12515967 0.13375078\n",
      " 0.14642455 0.14509706 0.14256731 0.1377583  0.14647464 0.16115216\n",
      " 0.17092048 0.16961803 0.181866   0.17257358 0.16904195 0.18149029\n",
      " 0.16385723 0.16105197 0.15757044 0.16568566 0.17232311 0.17392611\n",
      " 0.18407013 0.18146525 0.18169067 0.17873513 0.17715717 0.18827802\n",
      " 0.18249217 0.17051972 0.16320601 0.16363181 0.1636819  0.17092048\n",
      " 0.17204759 0.1636819  0.16588604 0.15769568 0.14875391 0.14444584\n",
      " 0.13918597 0.13720726 0.13259862 0.1323732  0.13119599 0.15902317\n",
      " 0.17016907 0.16974327 0.17282405 0.16546024 0.16418284 0.16235441\n",
      " 0.1702943  0.17392611 0.16350657 0.15479023 0.15539136 0.16518472\n",
      " 0.16458359 0.15539136 0.15143394 0.16508693]\n",
      "28 day input [0.08681277 0.08969317 0.08090169 0.08583594 0.08806512 0.09129618\n",
      " 0.09031935 0.09009393 0.08683782 0.085335   0.09247339 0.09517846\n",
      " 0.09946149 0.10499687 0.10624922 0.10680025 0.10482154 0.10469631\n",
      " 0.1063995  0.10522229 0.11453976 0.10760175 0.10549781 0.10815279\n",
      " 0.11183469 0.1105072  0.1113087  0.10920476 0.1101315  0.10289292\n",
      " 0.10276769 0.10807765 0.10810269 0.11060739 0.11684408 0.12781465\n",
      " 0.13452724 0.13570445 0.13668128 0.13800877 0.12515967 0.13375078\n",
      " 0.14642455 0.14509706 0.14256731 0.1377583  0.14647464 0.16115216\n",
      " 0.17092048 0.16961803 0.181866   0.17257358 0.16904195 0.18149029\n",
      " 0.16385723 0.16105197 0.15757044 0.16568566 0.17232311 0.17392611\n",
      " 0.18407013 0.18146525 0.18169067 0.17873513 0.17715717 0.18827802\n",
      " 0.18249217 0.17051972 0.16320601 0.16363181 0.1636819  0.17092048\n",
      " 0.17204759 0.1636819  0.16588604 0.15769568 0.14875391 0.14444584\n",
      " 0.13918597 0.13720726 0.13259862 0.1323732  0.13119599 0.15902317\n",
      " 0.17016907 0.16974327 0.17282405 0.16546024 0.16418284 0.16235441\n",
      " 0.1702943  0.17392611 0.16350657 0.15479023 0.15539136 0.16518472\n",
      " 0.16458359 0.15539136 0.15143394 0.16508693]\n",
      "29 day input [0.08681277 0.08969317 0.08090169 0.08583594 0.08806512 0.09129618\n",
      " 0.09031935 0.09009393 0.08683782 0.085335   0.09247339 0.09517846\n",
      " 0.09946149 0.10499687 0.10624922 0.10680025 0.10482154 0.10469631\n",
      " 0.1063995  0.10522229 0.11453976 0.10760175 0.10549781 0.10815279\n",
      " 0.11183469 0.1105072  0.1113087  0.10920476 0.1101315  0.10289292\n",
      " 0.10276769 0.10807765 0.10810269 0.11060739 0.11684408 0.12781465\n",
      " 0.13452724 0.13570445 0.13668128 0.13800877 0.12515967 0.13375078\n",
      " 0.14642455 0.14509706 0.14256731 0.1377583  0.14647464 0.16115216\n",
      " 0.17092048 0.16961803 0.181866   0.17257358 0.16904195 0.18149029\n",
      " 0.16385723 0.16105197 0.15757044 0.16568566 0.17232311 0.17392611\n",
      " 0.18407013 0.18146525 0.18169067 0.17873513 0.17715717 0.18827802\n",
      " 0.18249217 0.17051972 0.16320601 0.16363181 0.1636819  0.17092048\n",
      " 0.17204759 0.1636819  0.16588604 0.15769568 0.14875391 0.14444584\n",
      " 0.13918597 0.13720726 0.13259862 0.1323732  0.13119599 0.15902317\n",
      " 0.17016907 0.16974327 0.17282405 0.16546024 0.16418284 0.16235441\n",
      " 0.1702943  0.17392611 0.16350657 0.15479023 0.15539136 0.16518472\n",
      " 0.16458359 0.15539136 0.15143394 0.16508693]\n"
     ]
    }
   ],
   "source": [
    "# demonstrate prediction for next 10 days\n",
    "from numpy import array\n",
    "\n",
    "lst_output=[]\n",
    "n_steps=100\n",
    "i=0\n",
    "while(i<30):\n",
    "    \n",
    "    if(len(temp_input)>100):  \n",
    "        #print(temp_input)\n",
    "        x_input=np.array(temp_input[1:])\n",
    "        print(\"{} day input {}\".format(i,x_input))\n",
    "        x_input=x_input.reshape(1,-1)\n",
    "        x_input = x_input.reshape((1,n_steps,1))\n",
    "        #print(x_input)\n",
    "        lst_output.extend(yhat.tolist())\n",
    "        i=i+1\n",
    "    else:\n",
    "        x_input = x_input.reshape((1,n_steps,1))\n",
    "        yhat = model.predict(x_input, verbose=0)\n",
    "        print(yhat[0])\n",
    "        temp_input.extend(yhat[0].tolist())\n",
    "        print(len(temp_input))\n",
    "        lst_output.extend(yhat.tolist())\n",
    "        print(len(temp_input))\n",
    "        lst_output.extend(yhat.tolist())\n",
    "        i=i+1"
   ]
  },
  {
   "cell_type": "code",
   "execution_count": 60,
   "id": "mounted-gasoline",
   "metadata": {},
   "outputs": [],
   "source": [
    "day_new=np.arange(1,101)\n",
    "day_pred=np.arange(101,131)"
   ]
  },
  {
   "cell_type": "code",
   "execution_count": 61,
   "id": "personalized-disaster",
   "metadata": {},
   "outputs": [],
   "source": [
    "import matplotlib.pyplot as plt"
   ]
  },
  {
   "cell_type": "code",
   "execution_count": 62,
   "id": "psychological-moldova",
   "metadata": {},
   "outputs": [
    {
     "data": {
      "text/plain": [
       "1258"
      ]
     },
     "execution_count": 62,
     "metadata": {},
     "output_type": "execute_result"
    }
   ],
   "source": [
    "len(df1)"
   ]
  },
  {
   "cell_type": "code",
   "execution_count": 64,
   "id": "tender-ordinary",
   "metadata": {},
   "outputs": [],
   "source": [
    "df3=df1.tolist()\n",
    "df3.extend(lst_output)"
   ]
  },
  {
   "cell_type": "code",
   "execution_count": 70,
   "id": "improving-costa",
   "metadata": {},
   "outputs": [
    {
     "ename": "ValueError",
     "evalue": "Found array with 0 sample(s) (shape=(0, 1)) while a minimum of 1 is required.",
     "output_type": "error",
     "traceback": [
      "\u001b[1;31m---------------------------------------------------------------------------\u001b[0m",
      "\u001b[1;31mValueError\u001b[0m                                Traceback (most recent call last)",
      "\u001b[1;32m<ipython-input-70-b478249b7227>\u001b[0m in \u001b[0;36m<module>\u001b[1;34m\u001b[0m\n\u001b[1;32m----> 1\u001b[1;33m \u001b[0mplt\u001b[0m\u001b[1;33m.\u001b[0m\u001b[0mplot\u001b[0m\u001b[1;33m(\u001b[0m\u001b[0mday_new\u001b[0m\u001b[1;33m,\u001b[0m\u001b[0mscaler\u001b[0m\u001b[1;33m.\u001b[0m\u001b[0minverse_transform\u001b[0m\u001b[1;33m(\u001b[0m\u001b[0mdf1\u001b[0m\u001b[1;33m[\u001b[0m\u001b[1;36m11158\u001b[0m\u001b[1;33m:\u001b[0m\u001b[1;33m]\u001b[0m\u001b[1;33m)\u001b[0m\u001b[1;33m)\u001b[0m\u001b[1;33m\u001b[0m\u001b[1;33m\u001b[0m\u001b[0m\n\u001b[0m\u001b[0;32m      2\u001b[0m \u001b[0mplt\u001b[0m\u001b[1;33m.\u001b[0m\u001b[0mplot\u001b[0m\u001b[1;33m(\u001b[0m\u001b[0mday_pred\u001b[0m\u001b[1;33m,\u001b[0m\u001b[0mscaler\u001b[0m\u001b[1;33m.\u001b[0m\u001b[0minverse_transform\u001b[0m\u001b[1;33m(\u001b[0m\u001b[0mlst_output\u001b[0m\u001b[1;33m)\u001b[0m\u001b[1;33m)\u001b[0m\u001b[1;33m\u001b[0m\u001b[1;33m\u001b[0m\u001b[0m\n",
      "\u001b[1;32m~\\anaconda3\\lib\\site-packages\\sklearn\\preprocessing\\_data.py\u001b[0m in \u001b[0;36minverse_transform\u001b[1;34m(self, X)\u001b[0m\n\u001b[0;32m    523\u001b[0m         \u001b[0mcheck_is_fitted\u001b[0m\u001b[1;33m(\u001b[0m\u001b[0mself\u001b[0m\u001b[1;33m)\u001b[0m\u001b[1;33m\u001b[0m\u001b[1;33m\u001b[0m\u001b[0m\n\u001b[0;32m    524\u001b[0m \u001b[1;33m\u001b[0m\u001b[0m\n\u001b[1;32m--> 525\u001b[1;33m         X = check_array(\n\u001b[0m\u001b[0;32m    526\u001b[0m             \u001b[0mX\u001b[0m\u001b[1;33m,\u001b[0m \u001b[0mcopy\u001b[0m\u001b[1;33m=\u001b[0m\u001b[0mself\u001b[0m\u001b[1;33m.\u001b[0m\u001b[0mcopy\u001b[0m\u001b[1;33m,\u001b[0m \u001b[0mdtype\u001b[0m\u001b[1;33m=\u001b[0m\u001b[0mFLOAT_DTYPES\u001b[0m\u001b[1;33m,\u001b[0m \u001b[0mforce_all_finite\u001b[0m\u001b[1;33m=\u001b[0m\u001b[1;34m\"allow-nan\"\u001b[0m\u001b[1;33m\u001b[0m\u001b[1;33m\u001b[0m\u001b[0m\n\u001b[0;32m    527\u001b[0m         )\n",
      "\u001b[1;32m~\\anaconda3\\lib\\site-packages\\sklearn\\utils\\validation.py\u001b[0m in \u001b[0;36mcheck_array\u001b[1;34m(array, accept_sparse, accept_large_sparse, dtype, order, copy, force_all_finite, ensure_2d, allow_nd, ensure_min_samples, ensure_min_features, estimator)\u001b[0m\n\u001b[0;32m    803\u001b[0m         \u001b[0mn_samples\u001b[0m \u001b[1;33m=\u001b[0m \u001b[0m_num_samples\u001b[0m\u001b[1;33m(\u001b[0m\u001b[0marray\u001b[0m\u001b[1;33m)\u001b[0m\u001b[1;33m\u001b[0m\u001b[1;33m\u001b[0m\u001b[0m\n\u001b[0;32m    804\u001b[0m         \u001b[1;32mif\u001b[0m \u001b[0mn_samples\u001b[0m \u001b[1;33m<\u001b[0m \u001b[0mensure_min_samples\u001b[0m\u001b[1;33m:\u001b[0m\u001b[1;33m\u001b[0m\u001b[1;33m\u001b[0m\u001b[0m\n\u001b[1;32m--> 805\u001b[1;33m             raise ValueError(\n\u001b[0m\u001b[0;32m    806\u001b[0m                 \u001b[1;34m\"Found array with %d sample(s) (shape=%s) while a\"\u001b[0m\u001b[1;33m\u001b[0m\u001b[1;33m\u001b[0m\u001b[0m\n\u001b[0;32m    807\u001b[0m                 \u001b[1;34m\" minimum of %d is required%s.\"\u001b[0m\u001b[1;33m\u001b[0m\u001b[1;33m\u001b[0m\u001b[0m\n",
      "\u001b[1;31mValueError\u001b[0m: Found array with 0 sample(s) (shape=(0, 1)) while a minimum of 1 is required."
     ]
    }
   ],
   "source": [
    "plt.plot(day_new,scaler.inverse_transform(df1[11158:]))\n",
    "plt.plot(day_pred,scaler.inverse_transform(lst_output))"
   ]
  },
  {
   "cell_type": "code",
   "execution_count": 68,
   "id": "chicken-beast",
   "metadata": {},
   "outputs": [
    {
     "data": {
      "text/plain": [
       "[<matplotlib.lines.Line2D at 0x26c753b1220>]"
      ]
     },
     "execution_count": 68,
     "metadata": {},
     "output_type": "execute_result"
    },
    {
     "data": {
      "image/png": "[encoded data removed]",
      "text/plain": [
       "<Figure size 432x288 with 1 Axes>"
      ]
     },
     "metadata": {
      "needs_background": "light"
     },
     "output_type": "display_data"
    }
   ],
   "source": [
    "df3=df1.tolist()\n",
    "df3.extend(lst_output)\n",
    "\n",
    "plt.plot(df3[1000:])"
   ]
  },
  {
   "cell_type": "code",
   "execution_count": null,
   "id": "dominant-shareware",
   "metadata": {},
   "outputs": [],
   "source": []
  }
 ],
 "metadata": {
  "kernelspec": {
   "display_name": "Python 3",
   "language": "python",
   "name": "python3"
  },
  "language_info": {
   "codemirror_mode": {
    "name": "ipython",
    "version": 3
   },
   "file_extension": ".py",
   "mimetype": "text/x-python",
   "name": "python",
   "nbconvert_exporter": "python",
   "pygments_lexer": "ipython3",
   "version": "3.8.5"
  }
 },
 "nbformat": 4,
 "nbformat_minor": 5
}
